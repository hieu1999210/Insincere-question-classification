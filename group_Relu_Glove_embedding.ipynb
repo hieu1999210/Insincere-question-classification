{
  "nbformat": 4,
  "nbformat_minor": 0,
  "metadata": {
    "colab": {
      "name": "group_Relu_Glove_embedding.ipynb",
      "version": "0.3.2",
      "provenance": [],
      "collapsed_sections": [],
      "include_colab_link": true
    },
    "kernelspec": {
      "name": "python3",
      "display_name": "Python 3"
    },
    "accelerator": "GPU"
  },
  "cells": [
    {
      "cell_type": "markdown",
      "metadata": {
        "id": "view-in-github",
        "colab_type": "text"
      },
      "source": [
        "<a href=\"https://colab.research.google.com/github/hieu1999210/Insincere-question-classification/blob/master/group_Relu_Glove_embedding.ipynb\" target=\"_parent\"><img src=\"https://colab.research.google.com/assets/colab-badge.svg\" alt=\"Open In Colab\"/></a>"
      ]
    },
    {
      "cell_type": "code",
      "metadata": {
        "id": "oc7G7MUtSieO",
        "colab_type": "code",
        "outputId": "7792093f-55ca-46b8-ef75-d50b8b55714e",
        "colab": {
          "base_uri": "https://localhost:8080/",
          "height": 34
        }
      },
      "source": [
        "import os\n",
        "import time\n",
        "import numpy as np # linear algebra\n",
        "import pandas as pd # data processing, CSV file I/O (e.g. pd.read_csv)\n",
        "from tqdm import tqdm\n",
        "import math\n",
        "from sklearn.model_selection import train_test_split\n",
        "from sklearn import metrics\n",
        "\n",
        "from keras.preprocessing.text import Tokenizer\n",
        "from keras.preprocessing.sequence import pad_sequences\n",
        "from keras.layers import Dense, Input, LSTM, Embedding, Dropout, Activation, CuDNNGRU, Conv1D\n",
        "from keras.layers import Bidirectional, GlobalMaxPool1D\n",
        "from keras.models import Model\n",
        "from keras import initializers, regularizers, constraints, optimizers, layers\n",
        "\n",
        "\n"
      ],
      "execution_count": 0,
      "outputs": [
        {
          "output_type": "stream",
          "text": [
            "Using TensorFlow backend.\n"
          ],
          "name": "stderr"
        }
      ]
    },
    {
      "cell_type": "code",
      "metadata": {
        "id": "7gW2lOu7vzS2",
        "colab_type": "code",
        "outputId": "0e967cfa-3bdb-4f7f-c101-b9e8afdaf230",
        "colab": {
          "base_uri": "https://localhost:8080/",
          "height": 462
        }
      },
      "source": [
        "!pip install h5py pyyaml\n",
        "!pip install tf_nightly"
      ],
      "execution_count": 0,
      "outputs": [
        {
          "output_type": "stream",
          "text": [
            "Requirement already satisfied: h5py in /usr/local/lib/python3.6/dist-packages (2.8.0)\n",
            "Requirement already satisfied: pyyaml in /usr/local/lib/python3.6/dist-packages (3.13)\n",
            "Requirement already satisfied: six in /usr/local/lib/python3.6/dist-packages (from h5py) (1.12.0)\n",
            "Requirement already satisfied: numpy>=1.7 in /usr/local/lib/python3.6/dist-packages (from h5py) (1.16.4)\n",
            "Requirement already satisfied: tf_nightly in /usr/local/lib/python3.6/dist-packages (1.15.0.dev20190705)\n",
            "Requirement already satisfied: grpcio>=1.8.6 in /usr/local/lib/python3.6/dist-packages (from tf_nightly) (1.15.0)\n",
            "Requirement already satisfied: protobuf>=3.6.1 in /usr/local/lib/python3.6/dist-packages (from tf_nightly) (3.7.1)\n",
            "Requirement already satisfied: keras-preprocessing>=1.0.5 in /usr/local/lib/python3.6/dist-packages (from tf_nightly) (1.1.0)\n",
            "Requirement already satisfied: google-pasta>=0.1.6 in /usr/local/lib/python3.6/dist-packages (from tf_nightly) (0.1.7)\n",
            "Requirement already satisfied: keras-applications>=1.0.8 in /usr/local/lib/python3.6/dist-packages (from tf_nightly) (1.0.8)\n",
            "Requirement already satisfied: opt-einsum>=2.3.2 in /usr/local/lib/python3.6/dist-packages (from tf_nightly) (2.3.2)\n",
            "Requirement already satisfied: gast>=0.2.0 in /usr/local/lib/python3.6/dist-packages (from tf_nightly) (0.2.2)\n",
            "Requirement already satisfied: tb-nightly<1.15.0a0,>=1.14.0a0 in /usr/local/lib/python3.6/dist-packages (from tf_nightly) (1.14.0a20190614)\n",
            "Requirement already satisfied: tf-estimator-nightly in /usr/local/lib/python3.6/dist-packages (from tf_nightly) (1.14.0.dev2019070501)\n",
            "Requirement already satisfied: wrapt>=1.11.1 in /usr/local/lib/python3.6/dist-packages (from tf_nightly) (1.11.2)\n",
            "Requirement already satisfied: wheel>=0.26 in /usr/local/lib/python3.6/dist-packages (from tf_nightly) (0.33.4)\n",
            "Requirement already satisfied: astor>=0.6.0 in /usr/local/lib/python3.6/dist-packages (from tf_nightly) (0.8.0)\n",
            "Requirement already satisfied: absl-py>=0.7.0 in /usr/local/lib/python3.6/dist-packages (from tf_nightly) (0.7.1)\n",
            "Requirement already satisfied: termcolor>=1.1.0 in /usr/local/lib/python3.6/dist-packages (from tf_nightly) (1.1.0)\n",
            "Requirement already satisfied: numpy<2.0,>=1.14.5 in /usr/local/lib/python3.6/dist-packages (from tf_nightly) (1.16.4)\n",
            "Requirement already satisfied: six>=1.10.0 in /usr/local/lib/python3.6/dist-packages (from tf_nightly) (1.12.0)\n",
            "Requirement already satisfied: setuptools in /usr/local/lib/python3.6/dist-packages (from protobuf>=3.6.1->tf_nightly) (41.0.1)\n",
            "Requirement already satisfied: h5py in /usr/local/lib/python3.6/dist-packages (from keras-applications>=1.0.8->tf_nightly) (2.8.0)\n",
            "Requirement already satisfied: werkzeug>=0.11.15 in /usr/local/lib/python3.6/dist-packages (from tb-nightly<1.15.0a0,>=1.14.0a0->tf_nightly) (0.15.4)\n",
            "Requirement already satisfied: markdown>=2.6.8 in /usr/local/lib/python3.6/dist-packages (from tb-nightly<1.15.0a0,>=1.14.0a0->tf_nightly) (3.1.1)\n"
          ],
          "name": "stdout"
        }
      ]
    },
    {
      "cell_type": "code",
      "metadata": {
        "id": "XNfDHTElv3MF",
        "colab_type": "code",
        "colab": {}
      },
      "source": [
        "from __future__ import absolute_import, division, print_function, unicode_literals\n",
        "\n",
        "import os\n",
        "\n",
        "import tensorflow as tf\n",
        "from tensorflow import keras"
      ],
      "execution_count": 0,
      "outputs": []
    },
    {
      "cell_type": "code",
      "metadata": {
        "id": "qTtzHj3PSt_d",
        "colab_type": "code",
        "outputId": "81a1c7d0-29a6-494b-ef63-49271ea3b738",
        "colab": {
          "base_uri": "https://localhost:8080/",
          "height": 34
        }
      },
      "source": [
        "from google.colab import drive\n",
        "drive.mount('/content/drive')"
      ],
      "execution_count": 0,
      "outputs": [
        {
          "output_type": "stream",
          "text": [
            "Drive already mounted at /content/drive; to attempt to forcibly remount, call drive.mount(\"/content/drive\", force_remount=True).\n"
          ],
          "name": "stdout"
        }
      ]
    },
    {
      "cell_type": "code",
      "metadata": {
        "id": "l0mBn1rmw7fp",
        "colab_type": "code",
        "outputId": "776bd7a7-fe00-4f29-c5a8-a0f99053bf06",
        "colab": {
          "base_uri": "https://localhost:8080/",
          "height": 34
        }
      },
      "source": [
        "cd \"drive/My Drive\"\n"
      ],
      "execution_count": 0,
      "outputs": [
        {
          "output_type": "stream",
          "text": [
            "/content/drive/My Drive\n"
          ],
          "name": "stdout"
        }
      ]
    },
    {
      "cell_type": "code",
      "metadata": {
        "id": "CqFkRD7xV1SB",
        "colab_type": "code",
        "colab": {}
      },
      "source": [
        "path_train = \"data/train.csv\"\n",
        "path_test = \"data/test.csv\"\n",
        "train = pd.read_csv(path_train)\n",
        "test = pd.read_csv(path_test)\n",
        "# Dataset is now stored in a Pandas Dataframe"
      ],
      "execution_count": 0,
      "outputs": []
    },
    {
      "cell_type": "code",
      "metadata": {
        "id": "H_jxwhSaxPbS",
        "colab_type": "code",
        "colab": {}
      },
      "source": [
        ""
      ],
      "execution_count": 0,
      "outputs": []
    },
    {
      "cell_type": "code",
      "metadata": {
        "id": "74vOfBTVV9Ab",
        "colab_type": "code",
        "outputId": "2c98f7bf-406c-42ff-9a55-27c9fde73a97",
        "colab": {
          "base_uri": "https://localhost:8080/",
          "height": 51
        }
      },
      "source": [
        "print(train.shape)\n",
        "print(test.shape)"
      ],
      "execution_count": 0,
      "outputs": [
        {
          "output_type": "stream",
          "text": [
            "(1306122, 3)\n",
            "(375806, 2)\n"
          ],
          "name": "stdout"
        }
      ]
    },
    {
      "cell_type": "code",
      "metadata": {
        "id": "z0lVA6jdbhoJ",
        "colab_type": "code",
        "colab": {}
      },
      "source": [
        "def build_vocab(sentences, verbose =  True):\n",
        "    \"\"\"\n",
        "    :param sentences: list of list of words\n",
        "    :return: dictionary of words and their count\n",
        "    \"\"\"\n",
        "    vocab = {}\n",
        "    for sentence in tqdm(sentences, disable = (not verbose)):\n",
        "        for word in sentence:\n",
        "            try:\n",
        "                vocab[word] += 1\n",
        "            except KeyError:\n",
        "                vocab[word] = 1\n",
        "    return vocab"
      ],
      "execution_count": 0,
      "outputs": []
    },
    {
      "cell_type": "code",
      "metadata": {
        "id": "qjIyaji-bpS_",
        "colab_type": "code",
        "outputId": "98830884-b9de-420d-b955-b6bf12468874",
        "colab": {
          "base_uri": "https://localhost:8080/",
          "height": 68
        }
      },
      "source": [
        "import pandas as pd\n",
        "from tqdm import tqdm\n",
        "tqdm.pandas()\n",
        "train_X = train[\"question_text\"].progress_apply(lambda x: x.split()).values\n",
        "vocab = build_vocab(train_X)\n",
        "print({k: vocab[k] for k in list(vocab)[:5]})"
      ],
      "execution_count": 0,
      "outputs": [
        {
          "output_type": "stream",
          "text": [
            "100%|██████████| 1306122/1306122 [00:05<00:00, 225216.26it/s]\n",
            "100%|██████████| 1306122/1306122 [00:05<00:00, 232264.35it/s]"
          ],
          "name": "stderr"
        },
        {
          "output_type": "stream",
          "text": [
            "{'How': 261930, 'did': 33489, 'Quebec': 97, 'nationalists': 91, 'see': 9003}\n"
          ],
          "name": "stdout"
        },
        {
          "output_type": "stream",
          "text": [
            "\n"
          ],
          "name": "stderr"
        }
      ]
    },
    {
      "cell_type": "code",
      "metadata": {
        "id": "c7yPiwDLV_7M",
        "colab_type": "code",
        "colab": {}
      },
      "source": [
        "embedding_file = 'embeddings/glove.840B.300d.txt'\n",
        "def get_coefs(word, *arr):\n",
        "  return word, np.asarray(arr, dtype='float32')\n",
        "\n",
        "embeddings_index = dict(get_coefs(*o.split(\" \")) for o in open(embedding_file))\n",
        "\n"
      ],
      "execution_count": 0,
      "outputs": []
    },
    {
      "cell_type": "code",
      "metadata": {
        "id": "TB3WJ2alfXHb",
        "colab_type": "code",
        "colab": {}
      },
      "source": [
        "import operator\n",
        "def check_coverage(vocab,embeddings_index):\n",
        "    a = {}\n",
        "    oov = {}\n",
        "    k = 0\n",
        "    i = 0\n",
        "    for word in tqdm(vocab):\n",
        "        try:\n",
        "            a[word] = embeddings_index[word]\n",
        "            k += vocab[word]\n",
        "        except:\n",
        "\n",
        "            oov[word] = vocab[word]\n",
        "            i += vocab[word]\n",
        "            pass\n",
        "\n",
        "    print('Found embeddings for {:.2%} of vocab'.format(len(a) / len(vocab)))\n",
        "    print('Found embeddings for  {:.2%} of all text'.format(k / (k + i)))\n",
        "    sorted_x = sorted(oov.items(), key=operator.itemgetter(1))[::-1]\n",
        "\n",
        "    return sorted_x"
      ],
      "execution_count": 0,
      "outputs": []
    },
    {
      "cell_type": "code",
      "metadata": {
        "id": "mz0gxocufbNw",
        "colab_type": "code",
        "outputId": "4edbd820-e361-4731-c5f3-f651bd3f04ce",
        "colab": {
          "base_uri": "https://localhost:8080/",
          "height": 68
        }
      },
      "source": [
        "oov = check_coverage(vocab, embeddings_index)"
      ],
      "execution_count": 0,
      "outputs": [
        {
          "output_type": "stream",
          "text": [
            "100%|██████████| 508823/508823 [00:01<00:00, 484281.17it/s]\n"
          ],
          "name": "stderr"
        },
        {
          "output_type": "stream",
          "text": [
            "Found embeddings for 33.16% of vocab\n",
            "Found embeddings for  88.16% of all text\n"
          ],
          "name": "stdout"
        }
      ]
    },
    {
      "cell_type": "code",
      "metadata": {
        "id": "micvPe8ZfoOv",
        "colab_type": "code",
        "outputId": "6df8a66c-9d5a-45d9-8e52-328401c33f5d",
        "colab": {
          "base_uri": "https://localhost:8080/",
          "height": 187
        }
      },
      "source": [
        "oov[:10]"
      ],
      "execution_count": 0,
      "outputs": [
        {
          "output_type": "execute_result",
          "data": {
            "text/plain": [
              "[('India?', 16384),\n",
              " ('it?', 12900),\n",
              " (\"What's\", 12425),\n",
              " ('do?', 8753),\n",
              " ('life?', 7753),\n",
              " ('you?', 6295),\n",
              " ('me?', 6202),\n",
              " ('them?', 6140),\n",
              " ('time?', 5716),\n",
              " ('world?', 5386)]"
            ]
          },
          "metadata": {
            "tags": []
          },
          "execution_count": 16
        }
      ]
    },
    {
      "cell_type": "code",
      "metadata": {
        "id": "u0IXlQzngH9m",
        "colab_type": "code",
        "colab": {}
      },
      "source": [
        "def clean_text(x):\n",
        "\n",
        "    x = str(x)\n",
        "    for punct in \"/-'\":\n",
        "        x = x.replace(punct, ' ')\n",
        "    for punct in '&?':\n",
        "        x = x.replace(punct, f' {punct} ')\n",
        "    for punct in '!.,\"#$%\\'()*+-/:;<=>@[\\\\]^_`{|}~' + '“”’':\n",
        "        x = x.replace(punct, '')\n",
        "    return x"
      ],
      "execution_count": 0,
      "outputs": []
    },
    {
      "cell_type": "code",
      "metadata": {
        "id": "7mkunUf4gK6n",
        "colab_type": "code",
        "outputId": "e4c301cc-fe2a-46ca-bd53-f51eea7e5d8e",
        "colab": {
          "base_uri": "https://localhost:8080/",
          "height": 51
        }
      },
      "source": [
        "train[\"question_text\"] = train[\"question_text\"].progress_apply(lambda x: clean_text(x))\n",
        "train_X = train[\"question_text\"].apply(lambda x: x.split())\n",
        "vocab = build_vocab(train_X)"
      ],
      "execution_count": 0,
      "outputs": [
        {
          "output_type": "stream",
          "text": [
            "100%|██████████| 1306122/1306122 [00:14<00:00, 91453.54it/s]\n",
            "100%|██████████| 1306122/1306122 [00:05<00:00, 233951.74it/s]\n"
          ],
          "name": "stderr"
        }
      ]
    },
    {
      "cell_type": "code",
      "metadata": {
        "id": "_CdfuBgOgxt6",
        "colab_type": "code",
        "outputId": "6af8e5d8-c779-4063-db00-c65730bf7578",
        "colab": {
          "base_uri": "https://localhost:8080/",
          "height": 68
        }
      },
      "source": [
        "oov = check_coverage(vocab, embeddings_index)"
      ],
      "execution_count": 0,
      "outputs": [
        {
          "output_type": "stream",
          "text": [
            "100%|██████████| 253529/253529 [00:00<00:00, 627321.13it/s]\n"
          ],
          "name": "stderr"
        },
        {
          "output_type": "stream",
          "text": [
            "Found embeddings for 71.40% of vocab\n",
            "Found embeddings for  99.48% of all text\n"
          ],
          "name": "stdout"
        }
      ]
    },
    {
      "cell_type": "code",
      "metadata": {
        "id": "pw04dMIlg_Gr",
        "colab_type": "code",
        "outputId": "0c79b634-6863-4b5a-cf25-3b0c1e2eba49",
        "colab": {
          "base_uri": "https://localhost:8080/",
          "height": 187
        }
      },
      "source": [
        "oov[:10]"
      ],
      "execution_count": 0,
      "outputs": [
        {
          "output_type": "execute_result",
          "data": {
            "text/plain": [
              "[('Quorans', 858),\n",
              " ('Brexit', 493),\n",
              " ('cryptocurrencies', 481),\n",
              " ('Redmi', 379),\n",
              " ('OnePlus', 125),\n",
              " ('UCEED', 123),\n",
              " ('GDPR', 107),\n",
              " ('Blockchain', 107),\n",
              " ('demonetisation', 106),\n",
              " ('Coinbase', 104)]"
            ]
          },
          "metadata": {
            "tags": []
          },
          "execution_count": 20
        }
      ]
    },
    {
      "cell_type": "code",
      "metadata": {
        "id": "Bdve2Yjzi5-f",
        "colab_type": "code",
        "outputId": "f6d00d46-a832-4b02-febc-a89fbd2e3d1b",
        "colab": {
          "base_uri": "https://localhost:8080/",
          "height": 34
        }
      },
      "source": [
        "train_X.shape\n",
        "print(type(vocab))"
      ],
      "execution_count": 0,
      "outputs": [
        {
          "output_type": "stream",
          "text": [
            "<class 'dict'>\n"
          ],
          "name": "stdout"
        }
      ]
    },
    {
      "cell_type": "code",
      "metadata": {
        "id": "Mry6UJFlYSjb",
        "colab_type": "code",
        "colab": {}
      },
      "source": [
        "train, val = train_test_split(train, test_size = 0.1, random_state = 2019) \n",
        "embed_size = 300\n",
        "max_features = 50000\n",
        "maxlen = 100\n",
        "\n",
        "## fill up the missing values\n",
        "train_X = train[\"question_text\"].fillna(\"_na_\").values\n",
        "val_X = val[\"question_text\"].fillna(\"_na_\").values\n",
        "test_X = test[\"question_text\"].fillna(\"_na_\").values\n",
        "\n",
        "#Tokenize the sentences\n",
        "tokenizer = Tokenizer(num_words = max_features)\n",
        "tokenizer.fit_on_texts(list(train_X))\n",
        "train_X = tokenizer.texts_to_sequences(train_X)\n",
        "val_X = tokenizer.texts_to_sequences(val_X)\n",
        "# test_X = tokenizer.texts_to_sequences(test_X)\n",
        "\n",
        "#padding\n",
        "train_X = pad_sequences(train_X, maxlen=100)\n",
        "val_X = pad_sequences(val_X, maxlen=100)"
      ],
      "execution_count": 0,
      "outputs": []
    },
    {
      "cell_type": "code",
      "metadata": {
        "id": "qkVA5yVzt92J",
        "colab_type": "code",
        "outputId": "7936f90f-02a4-4a7e-fd99-eb97195adfa5",
        "colab": {
          "base_uri": "https://localhost:8080/",
          "height": 34
        }
      },
      "source": [
        "print(len(val_X))\n",
        "print(len(train_X[0].shape))"
      ],
      "execution_count": 0,
      "outputs": [
        {
          "output_type": "stream",
          "text": [
            "1\n"
          ],
          "name": "stdout"
        }
      ]
    },
    {
      "cell_type": "code",
      "metadata": {
        "id": "jA39z5XwmR3z",
        "colab_type": "code",
        "colab": {}
      },
      "source": [
        "# create a weight matrix for words in training docs\n",
        "embedding_matrix = np.zeros((50000, 300))\n",
        "for word, index in tokenizer.word_index.items():\n",
        "    if index > 50000 - 1:\n",
        "        break\n",
        "    else:\n",
        "        embedding_vector = embeddings_index.get(word)\n",
        "        if embedding_vector is not None:\n",
        "            embedding_matrix[index] = embedding_vector"
      ],
      "execution_count": 0,
      "outputs": []
    },
    {
      "cell_type": "code",
      "metadata": {
        "id": "gXj8K26RnU-d",
        "colab_type": "code",
        "colab": {}
      },
      "source": [
        "train_y = train['target'].values\n",
        "val_y = val['target'].values"
      ],
      "execution_count": 0,
      "outputs": []
    },
    {
      "cell_type": "code",
      "metadata": {
        "id": "3ogenmaHwAoS",
        "colab_type": "code",
        "colab": {}
      },
      "source": [
        "import tensorflow as tf\n",
        "import tensorflow_hub as hub\n",
        "from keras import backend as K\n",
        "\n",
        "def f1(y_true, y_pred):\n",
        "    def recall(y_true, y_pred):\n",
        "        \"\"\"Recall metric.\n",
        "\n",
        "        Only computes a batch-wise average of recall.\n",
        "\n",
        "        Computes the recall, a metric for multi-label classification of\n",
        "        how many relevant items are selected.\n",
        "        \"\"\"\n",
        "        true_positives = K.sum(y_true * y_pred)\n",
        "        possible_positives = K.sum(y_true)\n",
        "        recall = true_positives / (possible_positives + K.epsilon())\n",
        "        return recall\n",
        "\n",
        "    def precision(y_true, y_pred):\n",
        "        \"\"\"Precision metric.\n",
        "\n",
        "        Only computes a batch-wise average of precision.\n",
        "\n",
        "        Computes the precision, a metric for multi-label classification of\n",
        "        how many selected items are relevant.\n",
        "        \"\"\"\n",
        "        true_positives = K.sum(y_true * y_pred)\n",
        "        predicted_positives = K.sum(y_pred)\n",
        "        precision = true_positives / (predicted_positives + K.epsilon())\n",
        "        return precision\n",
        "    \n",
        "    Y_pred = tf.cast(tf.less(0.3, y_pred), tf.float32)\n",
        "    \n",
        "    precision = precision(y_true, Y_pred)\n",
        "    recall = recall(y_true, Y_pred)\n",
        "    return 2*((precision*recall)/(precision+recall+K.epsilon()))"
      ],
      "execution_count": 0,
      "outputs": []
    },
    {
      "cell_type": "code",
      "metadata": {
        "id": "iBz4oqSzo5Ko",
        "colab_type": "code",
        "outputId": "77624e60-c803-4dac-8277-bed171f1916b",
        "colab": {
          "base_uri": "https://localhost:8080/",
          "height": 581
        }
      },
      "source": [
        "from keras.models import Sequential\n",
        "from keras.layers import Dense, Flatten, LSTM, Conv1D, MaxPooling1D, Dropout, Activation\n",
        "from keras.layers.embeddings import Embedding\n",
        "\n",
        "\n",
        "def build_model():\n",
        "    model_glove = Sequential()\n",
        "    model_glove.add(Embedding(50000, 300, input_length=100, weights=[embedding_matrix], trainable=False))\n",
        "    model_glove.add(Dropout(0.2))\n",
        "    model_glove.add(Conv1D(64, 5, activation='relu'))\n",
        "    model_glove.add(MaxPooling1D(pool_size=4))\n",
        "    model_glove.add(LSTM(300))\n",
        "    model_glove.add(Dense(1, activation='sigmoid'))\n",
        "    model_glove.compile(loss='binary_crossentropy', optimizer='adam', metrics=[f1])\n",
        "    \n",
        "    return model_glove\n",
        "\n",
        "model_glove = build_model()\n",
        "\n",
        "model_glove.summary()"
      ],
      "execution_count": 0,
      "outputs": [
        {
          "output_type": "stream",
          "text": [
            "WARNING: Logging before flag parsing goes to stderr.\n",
            "W0706 05:46:54.996817 139766792431488 deprecation_wrapper.py:118] From /usr/local/lib/python3.6/dist-packages/keras/backend/tensorflow_backend.py:74: The name tf.get_default_graph is deprecated. Please use tf.compat.v1.get_default_graph instead.\n",
            "\n",
            "W0706 05:46:55.643271 139766792431488 deprecation.py:506] From /usr/local/lib/python3.6/dist-packages/keras/backend/tensorflow_backend.py:3445: calling dropout (from tensorflow.python.ops.nn_ops) with keep_prob is deprecated and will be removed in a future version.\n",
            "Instructions for updating:\n",
            "Please use `rate` instead of `keep_prob`. Rate should be set to `rate = 1 - keep_prob`.\n",
            "W0706 05:46:55.700432 139766792431488 deprecation_wrapper.py:118] From /usr/local/lib/python3.6/dist-packages/keras/backend/tensorflow_backend.py:3976: The name tf.nn.max_pool is deprecated. Please use tf.nn.max_pool2d instead.\n",
            "\n",
            "W0706 05:46:56.167027 139766792431488 deprecation_wrapper.py:118] From /usr/local/lib/python3.6/dist-packages/keras/optimizers.py:790: The name tf.train.Optimizer is deprecated. Please use tf.compat.v1.train.Optimizer instead.\n",
            "\n",
            "W0706 05:46:56.201211 139766792431488 deprecation.py:323] From /usr/local/lib/python3.6/dist-packages/tensorflow_core/python/ops/nn_impl.py:183: where (from tensorflow.python.ops.array_ops) is deprecated and will be removed in a future version.\n",
            "Instructions for updating:\n",
            "Use tf.where in 2.0, which has the same broadcast rule as np.where\n"
          ],
          "name": "stderr"
        },
        {
          "output_type": "stream",
          "text": [
            "_________________________________________________________________\n",
            "Layer (type)                 Output Shape              Param #   \n",
            "=================================================================\n",
            "embedding_1 (Embedding)      (None, 100, 300)          15000000  \n",
            "_________________________________________________________________\n",
            "dropout_1 (Dropout)          (None, 100, 300)          0         \n",
            "_________________________________________________________________\n",
            "conv1d_1 (Conv1D)            (None, 96, 64)            96064     \n",
            "_________________________________________________________________\n",
            "max_pooling1d_1 (MaxPooling1 (None, 24, 64)            0         \n",
            "_________________________________________________________________\n",
            "lstm_1 (LSTM)                (None, 300)               438000    \n",
            "_________________________________________________________________\n",
            "dense_1 (Dense)              (None, 1)                 301       \n",
            "=================================================================\n",
            "Total params: 15,534,365\n",
            "Trainable params: 534,365\n",
            "Non-trainable params: 15,000,000\n",
            "_________________________________________________________________\n"
          ],
          "name": "stdout"
        }
      ]
    },
    {
      "cell_type": "code",
      "metadata": {
        "id": "PDlUUnpc3gCE",
        "colab_type": "code",
        "outputId": "bca1a8ad-543a-431d-bb26-088ab71328c0",
        "colab": {
          "base_uri": "https://localhost:8080/",
          "height": 68
        }
      },
      "source": [
        "print(len(val_X))\n",
        "print(len(val_y))\n",
        "130613 - 130613%256"
      ],
      "execution_count": 0,
      "outputs": [
        {
          "output_type": "stream",
          "text": [
            "130613\n",
            "130613\n"
          ],
          "name": "stdout"
        },
        {
          "output_type": "execute_result",
          "data": {
            "text/plain": [
              "130560"
            ]
          },
          "metadata": {
            "tags": []
          },
          "execution_count": 33
        }
      ]
    },
    {
      "cell_type": "code",
      "metadata": {
        "id": "Jhzu3NrSpjSb",
        "colab_type": "code",
        "outputId": "9d26a485-427d-49ad-d793-fe1d40d4982a",
        "colab": {
          "base_uri": "https://localhost:8080/",
          "height": 479
        }
      },
      "source": [
        "import tensorflow as tf\n",
        "# include the epoch in the file name. (uses `str.format`)\n",
        "checkpoint_path = \"data/training_glove/cp-{epoch:04d}.ckpt\"\n",
        "checkpoint_dir = os.path.dirname(checkpoint_path)\n",
        "\n",
        "cp_callback = tf.keras.callbacks.ModelCheckpoint(\n",
        "    checkpoint_path, verbose=1, save_weights_only=True,\n",
        "    # Save weights, every 5-epochs.\n",
        "    period=1)\n",
        "\n",
        "\n",
        "history = model_glove.fit(np.array(train_X[:9404288]), np.array(train_y[:9404288]), validation_data=(np.array(val_X[:130560]), val_y[:130560]), batch_size = 256, epochs = 6, callbacks = [cp_callback])"
      ],
      "execution_count": 0,
      "outputs": [
        {
          "output_type": "stream",
          "text": [
            "W0706 06:06:11.286353 139766792431488 callbacks.py:861] `period` argument is deprecated. Please use `save_freq` to specify the frequency in number of samples seen.\n"
          ],
          "name": "stderr"
        },
        {
          "output_type": "stream",
          "text": [
            "Train on 1175509 samples, validate on 130560 samples\n",
            "Epoch 1/6\n",
            "1175509/1175509 [==============================] - 3468s 3ms/step - loss: 0.1164 - f1: 0.6080 - val_loss: 0.1122 - val_f1: 0.6398\n",
            "\n",
            "Epoch 00001: saving model to data/training_glove/cp-0001.ckpt\n",
            "Epoch 2/6\n",
            "1175509/1175509 [==============================] - 3649s 3ms/step - loss: 0.1079 - f1: 0.6363 - val_loss: 0.1084 - val_f1: 0.6508\n",
            "\n",
            "Epoch 00002: saving model to data/training_glove/cp-0002.ckpt\n",
            "Epoch 3/6\n",
            "1175509/1175509 [==============================] - 3816s 3ms/step - loss: 0.1035 - f1: 0.6532 - val_loss: 0.1086 - val_f1: 0.6471\n",
            "\n",
            "Epoch 00003: saving model to data/training_glove/cp-0003.ckpt\n",
            "Epoch 4/6\n",
            "1175509/1175509 [==============================] - 3817s 3ms/step - loss: 0.1002 - f1: 0.6633 - val_loss: 0.1066 - val_f1: 0.6528\n",
            "\n",
            "Epoch 00004: saving model to data/training_glove/cp-0004.ckpt\n",
            "Epoch 5/6\n",
            "1175509/1175509 [==============================] - 3730s 3ms/step - loss: 0.0974 - f1: 0.6712 - val_loss: 0.1100 - val_f1: 0.6359\n",
            "\n",
            "Epoch 00005: saving model to data/training_glove/cp-0005.ckpt\n",
            "Epoch 6/6\n",
            "1175509/1175509 [==============================] - 3844s 3ms/step - loss: 0.0950 - f1: 0.6800 - val_loss: 0.1069 - val_f1: 0.6547\n",
            "\n",
            "Epoch 00006: saving model to data/training_glove/cp-0006.ckpt\n"
          ],
          "name": "stdout"
        }
      ]
    },
    {
      "cell_type": "code",
      "metadata": {
        "id": "JoEFzmvG2ucl",
        "colab_type": "code",
        "outputId": "148df13f-1b87-46fa-c224-4d959256d3e9",
        "colab": {
          "base_uri": "https://localhost:8080/",
          "height": 34
        }
      },
      "source": [
        "9404407-940407%256\n"
      ],
      "execution_count": 0,
      "outputs": [
        {
          "output_type": "execute_result",
          "data": {
            "text/plain": [
              "9404288"
            ]
          },
          "metadata": {
            "tags": []
          },
          "execution_count": 31
        }
      ]
    },
    {
      "cell_type": "code",
      "metadata": {
        "id": "tQlxW7-HbM38",
        "colab_type": "code",
        "outputId": "dd5f20fc-9f76-4c69-d006-759d8709ae85",
        "colab": {
          "base_uri": "https://localhost:8080/",
          "height": 34
        }
      },
      "source": [
        "predict_val_y = model_glove.predict(val_X, batch_size = 1024, verbose = 1)"
      ],
      "execution_count": 0,
      "outputs": [
        {
          "output_type": "stream",
          "text": [
            "130613/130613 [==============================] - 113s 866us/step\n"
          ],
          "name": "stdout"
        }
      ]
    },
    {
      "cell_type": "code",
      "metadata": {
        "id": "ffagjr9C-s12",
        "colab_type": "code",
        "outputId": "6e18268a-2792-4c4e-99ab-4446ca941d14",
        "colab": {
          "base_uri": "https://localhost:8080/",
          "height": 1000
        }
      },
      "source": [
        "for thresh in np.arange(0.1, 0.901, 0.01):\n",
        "    thresh = np.round(thresh, 2)\n",
        "    print(\"F1 score at threshold {0} is {1}\".format(thresh, metrics.f1_score(val_y, (predict_val_y>thresh).astype(int))))"
      ],
      "execution_count": 0,
      "outputs": [
        {
          "output_type": "stream",
          "text": [
            "F1 score at threshold 0.1 is 0.5902389217888503\n",
            "F1 score at threshold 0.11 is 0.598319889664396\n",
            "F1 score at threshold 0.12 is 0.6063502902014339\n",
            "F1 score at threshold 0.13 is 0.6140045288277305\n",
            "F1 score at threshold 0.14 is 0.6204693669313694\n",
            "F1 score at threshold 0.15 is 0.6257563442608146\n",
            "F1 score at threshold 0.16 is 0.6312164209946274\n",
            "F1 score at threshold 0.17 is 0.6356299855390213\n",
            "F1 score at threshold 0.18 is 0.6395646000946521\n",
            "F1 score at threshold 0.19 is 0.6419433663935605\n",
            "F1 score at threshold 0.2 is 0.6445607911576497\n",
            "F1 score at threshold 0.21 is 0.6480117820324006\n",
            "F1 score at threshold 0.22 is 0.6507628845484816\n",
            "F1 score at threshold 0.23 is 0.6537474203452961\n",
            "F1 score at threshold 0.24 is 0.6558980891719745\n",
            "F1 score at threshold 0.25 is 0.6577264287187952\n",
            "F1 score at threshold 0.26 is 0.6586788914357159\n",
            "F1 score at threshold 0.27 is 0.6595072646873026\n",
            "F1 score at threshold 0.28 is 0.6606382978723404\n",
            "F1 score at threshold 0.29 is 0.6607565011820332\n",
            "F1 score at threshold 0.3 is 0.6614224488688765\n",
            "F1 score at threshold 0.31 is 0.6606741573033709\n",
            "F1 score at threshold 0.32 is 0.6606510186005314\n",
            "F1 score at threshold 0.33 is 0.6613434585962366\n",
            "F1 score at threshold 0.34 is 0.6620472086079657\n",
            "F1 score at threshold 0.35 is 0.6623096158217777\n",
            "F1 score at threshold 0.36 is 0.6612671606640244\n",
            "F1 score at threshold 0.37 is 0.6624203821656051\n",
            "F1 score at threshold 0.38 is 0.6602406823227014\n",
            "F1 score at threshold 0.39 is 0.6601014270550772\n",
            "F1 score at threshold 0.4 is 0.6594871184625453\n",
            "F1 score at threshold 0.41 is 0.6587896599292269\n",
            "F1 score at threshold 0.42 is 0.6568971781518711\n",
            "F1 score at threshold 0.43 is 0.6561163387510692\n",
            "F1 score at threshold 0.44 is 0.6545073633618831\n",
            "F1 score at threshold 0.45 is 0.6524356189885201\n",
            "F1 score at threshold 0.46 is 0.651026026026026\n",
            "F1 score at threshold 0.47 is 0.6493440968718466\n",
            "F1 score at threshold 0.48 is 0.6462987715613265\n",
            "F1 score at threshold 0.49 is 0.6426553672316384\n",
            "F1 score at threshold 0.5 is 0.6410156756056484\n",
            "F1 score at threshold 0.51 is 0.637783441155329\n",
            "F1 score at threshold 0.52 is 0.6338603425559948\n",
            "F1 score at threshold 0.53 is 0.6306833289018878\n",
            "F1 score at threshold 0.54 is 0.6279662153103633\n",
            "F1 score at threshold 0.55 is 0.624890150746975\n",
            "F1 score at threshold 0.56 is 0.6209815029690806\n",
            "F1 score at threshold 0.57 is 0.6171971889210417\n",
            "F1 score at threshold 0.58 is 0.6106934001670844\n",
            "F1 score at threshold 0.59 is 0.6068897775906827\n",
            "F1 score at threshold 0.6 is 0.6014451686030037\n",
            "F1 score at threshold 0.61 is 0.5969530076532437\n",
            "F1 score at threshold 0.62 is 0.5914475585091014\n",
            "F1 score at threshold 0.63 is 0.5863453815261044\n",
            "F1 score at threshold 0.64 is 0.5792971057294742\n",
            "F1 score at threshold 0.65 is 0.5735612450548631\n",
            "F1 score at threshold 0.66 is 0.5658043593031149\n",
            "F1 score at threshold 0.67 is 0.559457606459968\n",
            "F1 score at threshold 0.68 is 0.5514745514745515\n",
            "F1 score at threshold 0.69 is 0.5429172838543697\n",
            "F1 score at threshold 0.7 is 0.5325761161066414\n",
            "F1 score at threshold 0.71 is 0.5233152347492813\n",
            "F1 score at threshold 0.72 is 0.5124140719773553\n",
            "F1 score at threshold 0.73 is 0.5014763779527559\n",
            "F1 score at threshold 0.74 is 0.49208060369848244\n",
            "F1 score at threshold 0.75 is 0.478476960660433\n",
            "F1 score at threshold 0.76 is 0.46400136974574097\n",
            "F1 score at threshold 0.77 is 0.45105866018743496\n",
            "F1 score at threshold 0.78 is 0.4357935529328871\n",
            "F1 score at threshold 0.79 is 0.4222580067990696\n",
            "F1 score at threshold 0.8 is 0.4029143897996357\n",
            "F1 score at threshold 0.81 is 0.3837112447940768\n",
            "F1 score at threshold 0.82 is 0.3621290626471974\n",
            "F1 score at threshold 0.83 is 0.3385622173034356\n",
            "F1 score at threshold 0.84 is 0.31734534064213\n",
            "F1 score at threshold 0.85 is 0.2890843662534986\n",
            "F1 score at threshold 0.86 is 0.2594407021841192\n",
            "F1 score at threshold 0.87 is 0.2306651400020818\n",
            "F1 score at threshold 0.88 is 0.20104133460843696\n",
            "F1 score at threshold 0.89 is 0.17132942962481024\n",
            "F1 score at threshold 0.9 is 0.1435205661211853\n"
          ],
          "name": "stdout"
        }
      ]
    },
    {
      "cell_type": "code",
      "metadata": {
        "id": "vE9qR7lR_bNF",
        "colab_type": "code",
        "outputId": "15c0a6cf-c613-4268-cb78-83d95fd6c832",
        "colab": {
          "base_uri": "https://localhost:8080/",
          "height": 51
        }
      },
      "source": [
        "!ls {checkpoint_dir}"
      ],
      "execution_count": 0,
      "outputs": [
        {
          "output_type": "stream",
          "text": [
            "cp-0001.ckpt  cp-0003.ckpt  cp-0005.ckpt\n",
            "cp-0002.ckpt  cp-0004.ckpt  cp-0006.ckpt\n"
          ],
          "name": "stdout"
        }
      ]
    },
    {
      "cell_type": "code",
      "metadata": {
        "id": "yt19E4abg4MB",
        "colab_type": "code",
        "colab": {}
      },
      "source": [
        "checkpoint_path = \"data/training_glove/cp-0001.ckpt\"\n",
        "checkpoint_dir = os.path.dirname(checkpoint_path)\n",
        "\n"
      ],
      "execution_count": 0,
      "outputs": []
    },
    {
      "cell_type": "code",
      "metadata": {
        "id": "oPxm3qIDhrrH",
        "colab_type": "code",
        "outputId": "86b5e506-00d7-418e-ab67-79c451b33d02",
        "colab": {
          "base_uri": "https://localhost:8080/",
          "height": 1000
        }
      },
      "source": [
        "model_glove.load_weights(checkpoint_path)\n",
        "predict_val_y = model_glove.predict(val_X, batch_size = 1024, verbose = 1)\n",
        "\n",
        "for thresh in np.arange(0.1, 0.901, 0.01):\n",
        "    thresh = np.round(thresh, 2)\n",
        "    print(\"F1 score at threshold {0} is {1}\".format(thresh, metrics.f1_score(val_y, (predict_val_y>thresh).astype(int))))"
      ],
      "execution_count": 0,
      "outputs": [
        {
          "output_type": "stream",
          "text": [
            "130613/130613 [==============================] - 115s 880us/step\n",
            "F1 score at threshold 0.1 is 0.5754442649434571\n",
            "F1 score at threshold 0.11 is 0.5849739854318419\n",
            "F1 score at threshold 0.12 is 0.5938741509675766\n",
            "F1 score at threshold 0.13 is 0.6017171894165061\n",
            "F1 score at threshold 0.14 is 0.6084892988269007\n",
            "F1 score at threshold 0.15 is 0.6145466196731816\n",
            "F1 score at threshold 0.16 is 0.6190876799401758\n",
            "F1 score at threshold 0.17 is 0.6238435860753456\n",
            "F1 score at threshold 0.18 is 0.6277634711627229\n",
            "F1 score at threshold 0.19 is 0.6305565191535756\n",
            "F1 score at threshold 0.2 is 0.6340258168616377\n",
            "F1 score at threshold 0.21 is 0.6381255127153405\n",
            "F1 score at threshold 0.22 is 0.6408131352619234\n",
            "F1 score at threshold 0.23 is 0.6434239762988044\n",
            "F1 score at threshold 0.24 is 0.644364495516297\n",
            "F1 score at threshold 0.25 is 0.6457981131046518\n",
            "F1 score at threshold 0.26 is 0.6465774632312286\n",
            "F1 score at threshold 0.27 is 0.647975776606482\n",
            "F1 score at threshold 0.28 is 0.6470120427175642\n",
            "F1 score at threshold 0.29 is 0.6463751438434981\n",
            "F1 score at threshold 0.3 is 0.6467296257432669\n",
            "F1 score at threshold 0.31 is 0.6454588457899716\n",
            "F1 score at threshold 0.32 is 0.6424976030680728\n",
            "F1 score at threshold 0.33 is 0.6411407766990291\n",
            "F1 score at threshold 0.34 is 0.6409185803757829\n",
            "F1 score at threshold 0.35 is 0.6373189081638998\n",
            "F1 score at threshold 0.36 is 0.6340910522007429\n",
            "F1 score at threshold 0.37 is 0.629210610418664\n",
            "F1 score at threshold 0.38 is 0.6250323247995863\n",
            "F1 score at threshold 0.39 is 0.6210099424385138\n",
            "F1 score at threshold 0.4 is 0.6163847429519071\n",
            "F1 score at threshold 0.41 is 0.611726778158372\n",
            "F1 score at threshold 0.42 is 0.6069631442948457\n",
            "F1 score at threshold 0.43 is 0.6031658637302134\n",
            "F1 score at threshold 0.44 is 0.597212543554007\n",
            "F1 score at threshold 0.45 is 0.5909668313338038\n",
            "F1 score at threshold 0.46 is 0.586128157556729\n",
            "F1 score at threshold 0.47 is 0.5780697321879736\n",
            "F1 score at threshold 0.48 is 0.5719710801139268\n",
            "F1 score at threshold 0.49 is 0.5641709249796342\n",
            "F1 score at threshold 0.5 is 0.5578710644677661\n",
            "F1 score at threshold 0.51 is 0.5487814137119429\n",
            "F1 score at threshold 0.52 is 0.5402581438229871\n",
            "F1 score at threshold 0.53 is 0.5306693617352095\n",
            "F1 score at threshold 0.54 is 0.5217186024551463\n",
            "F1 score at threshold 0.55 is 0.5121096239643085\n",
            "F1 score at threshold 0.56 is 0.5018551379254719\n",
            "F1 score at threshold 0.57 is 0.4908838198021421\n",
            "F1 score at threshold 0.58 is 0.4786353097052003\n",
            "F1 score at threshold 0.59 is 0.46822069428140195\n",
            "F1 score at threshold 0.6 is 0.4584536958368734\n",
            "F1 score at threshold 0.61 is 0.44547723556244084\n",
            "F1 score at threshold 0.62 is 0.43085524591596047\n",
            "F1 score at threshold 0.63 is 0.4163858840219897\n",
            "F1 score at threshold 0.64 is 0.4035560344827587\n",
            "F1 score at threshold 0.65 is 0.3894353369763206\n",
            "F1 score at threshold 0.66 is 0.3744224727407134\n",
            "F1 score at threshold 0.67 is 0.35820056232427366\n",
            "F1 score at threshold 0.68 is 0.3418154196733764\n",
            "F1 score at threshold 0.69 is 0.32942307692307693\n",
            "F1 score at threshold 0.7 is 0.31334698254850346\n",
            "F1 score at threshold 0.71 is 0.29490988314517724\n",
            "F1 score at threshold 0.72 is 0.2789252055343894\n",
            "F1 score at threshold 0.73 is 0.2590895203177513\n",
            "F1 score at threshold 0.74 is 0.23961991324106588\n",
            "F1 score at threshold 0.75 is 0.22233842292407446\n",
            "F1 score at threshold 0.76 is 0.2015059921518719\n",
            "F1 score at threshold 0.77 is 0.1837895866881374\n",
            "F1 score at threshold 0.78 is 0.16659426585577758\n",
            "F1 score at threshold 0.79 is 0.1500439367311072\n",
            "F1 score at threshold 0.8 is 0.13125695216907673\n",
            "F1 score at threshold 0.81 is 0.11149904268498705\n",
            "F1 score at threshold 0.82 is 0.08882292499143737\n",
            "F1 score at threshold 0.83 is 0.07377521613832853\n",
            "F1 score at threshold 0.84 is 0.05727590221187427\n",
            "F1 score at threshold 0.85 is 0.04252319981205216\n",
            "F1 score at threshold 0.86 is 0.03213610586011342\n",
            "F1 score at threshold 0.87 is 0.022570681872178665\n",
            "F1 score at threshold 0.88 is 0.014560210048931854\n",
            "F1 score at threshold 0.89 is 0.009810959559703278\n",
            "F1 score at threshold 0.9 is 0.006472491909385114\n"
          ],
          "name": "stdout"
        }
      ]
    },
    {
      "cell_type": "code",
      "metadata": {
        "id": "-5Z4nflyiHSy",
        "colab_type": "code",
        "outputId": "994c0695-638c-415b-a1cf-868c6dfd2999",
        "colab": {
          "base_uri": "https://localhost:8080/",
          "height": 1000
        }
      },
      "source": [
        "checkpoint_path_2 = \"data/training_glove/cp-0002.ckpt\"\n",
        "checkpoint_dir = os.path.dirname(checkpoint_path_2)\n",
        "model_glove.load_weights(checkpoint_path)\n",
        "predict_val_y = model_glove.predict(val_X, batch_size = 1024, verbose = 1)\n",
        "\n",
        "for thresh in np.arange(0.1, 0.901, 0.01):\n",
        "    thresh = np.round(thresh, 2)\n",
        "    print(\"F1 score at threshold {0} is {1}\".format(thresh, metrics.f1_score(val_y, (predict_val_y>thresh).astype(int))))"
      ],
      "execution_count": 0,
      "outputs": [
        {
          "output_type": "stream",
          "text": [
            "130613/130613 [==============================] - 113s 867us/step\n",
            "F1 score at threshold 0.1 is 0.5754442649434571\n",
            "F1 score at threshold 0.11 is 0.5849739854318419\n",
            "F1 score at threshold 0.12 is 0.5938741509675766\n",
            "F1 score at threshold 0.13 is 0.6017171894165061\n",
            "F1 score at threshold 0.14 is 0.6084892988269007\n",
            "F1 score at threshold 0.15 is 0.6145466196731816\n",
            "F1 score at threshold 0.16 is 0.6190876799401758\n",
            "F1 score at threshold 0.17 is 0.6238435860753456\n",
            "F1 score at threshold 0.18 is 0.6277634711627229\n",
            "F1 score at threshold 0.19 is 0.6305565191535756\n",
            "F1 score at threshold 0.2 is 0.6340258168616377\n",
            "F1 score at threshold 0.21 is 0.6381255127153405\n",
            "F1 score at threshold 0.22 is 0.6408131352619234\n",
            "F1 score at threshold 0.23 is 0.6434239762988044\n",
            "F1 score at threshold 0.24 is 0.644364495516297\n",
            "F1 score at threshold 0.25 is 0.6457981131046518\n",
            "F1 score at threshold 0.26 is 0.6465774632312286\n",
            "F1 score at threshold 0.27 is 0.647975776606482\n",
            "F1 score at threshold 0.28 is 0.6470120427175642\n",
            "F1 score at threshold 0.29 is 0.6463751438434981\n",
            "F1 score at threshold 0.3 is 0.6467296257432669\n",
            "F1 score at threshold 0.31 is 0.6454588457899716\n",
            "F1 score at threshold 0.32 is 0.6424976030680728\n",
            "F1 score at threshold 0.33 is 0.6411407766990291\n",
            "F1 score at threshold 0.34 is 0.6409185803757829\n",
            "F1 score at threshold 0.35 is 0.6373189081638998\n",
            "F1 score at threshold 0.36 is 0.6340910522007429\n",
            "F1 score at threshold 0.37 is 0.629210610418664\n",
            "F1 score at threshold 0.38 is 0.6250323247995863\n",
            "F1 score at threshold 0.39 is 0.6210099424385138\n",
            "F1 score at threshold 0.4 is 0.6163847429519071\n",
            "F1 score at threshold 0.41 is 0.611726778158372\n",
            "F1 score at threshold 0.42 is 0.6069631442948457\n",
            "F1 score at threshold 0.43 is 0.6031658637302134\n",
            "F1 score at threshold 0.44 is 0.597212543554007\n",
            "F1 score at threshold 0.45 is 0.5909668313338038\n",
            "F1 score at threshold 0.46 is 0.586128157556729\n",
            "F1 score at threshold 0.47 is 0.5780697321879736\n",
            "F1 score at threshold 0.48 is 0.5719710801139268\n",
            "F1 score at threshold 0.49 is 0.5641709249796342\n",
            "F1 score at threshold 0.5 is 0.5578710644677661\n",
            "F1 score at threshold 0.51 is 0.5487814137119429\n",
            "F1 score at threshold 0.52 is 0.5402581438229871\n",
            "F1 score at threshold 0.53 is 0.5306693617352095\n",
            "F1 score at threshold 0.54 is 0.5217186024551463\n",
            "F1 score at threshold 0.55 is 0.5121096239643085\n",
            "F1 score at threshold 0.56 is 0.5018551379254719\n",
            "F1 score at threshold 0.57 is 0.4908838198021421\n",
            "F1 score at threshold 0.58 is 0.4786353097052003\n",
            "F1 score at threshold 0.59 is 0.46822069428140195\n",
            "F1 score at threshold 0.6 is 0.4584536958368734\n",
            "F1 score at threshold 0.61 is 0.44547723556244084\n",
            "F1 score at threshold 0.62 is 0.43085524591596047\n",
            "F1 score at threshold 0.63 is 0.4163858840219897\n",
            "F1 score at threshold 0.64 is 0.4035560344827587\n",
            "F1 score at threshold 0.65 is 0.3894353369763206\n",
            "F1 score at threshold 0.66 is 0.3744224727407134\n",
            "F1 score at threshold 0.67 is 0.35820056232427366\n",
            "F1 score at threshold 0.68 is 0.3418154196733764\n",
            "F1 score at threshold 0.69 is 0.32942307692307693\n",
            "F1 score at threshold 0.7 is 0.31334698254850346\n",
            "F1 score at threshold 0.71 is 0.29490988314517724\n",
            "F1 score at threshold 0.72 is 0.2789252055343894\n",
            "F1 score at threshold 0.73 is 0.2590895203177513\n",
            "F1 score at threshold 0.74 is 0.23961991324106588\n",
            "F1 score at threshold 0.75 is 0.22233842292407446\n",
            "F1 score at threshold 0.76 is 0.2015059921518719\n",
            "F1 score at threshold 0.77 is 0.1837895866881374\n",
            "F1 score at threshold 0.78 is 0.16659426585577758\n",
            "F1 score at threshold 0.79 is 0.1500439367311072\n",
            "F1 score at threshold 0.8 is 0.13125695216907673\n",
            "F1 score at threshold 0.81 is 0.11149904268498705\n",
            "F1 score at threshold 0.82 is 0.08882292499143737\n",
            "F1 score at threshold 0.83 is 0.07377521613832853\n",
            "F1 score at threshold 0.84 is 0.05727590221187427\n",
            "F1 score at threshold 0.85 is 0.04252319981205216\n",
            "F1 score at threshold 0.86 is 0.03213610586011342\n",
            "F1 score at threshold 0.87 is 0.022570681872178665\n",
            "F1 score at threshold 0.88 is 0.014560210048931854\n",
            "F1 score at threshold 0.89 is 0.009810959559703278\n",
            "F1 score at threshold 0.9 is 0.006472491909385114\n"
          ],
          "name": "stdout"
        }
      ]
    },
    {
      "cell_type": "code",
      "metadata": {
        "id": "Yvp3_W3qi0S_",
        "colab_type": "code",
        "outputId": "f3bd961e-52ee-483a-cf73-365e90cb4671",
        "colab": {
          "base_uri": "https://localhost:8080/",
          "height": 1000
        }
      },
      "source": [
        "checkpoint_path_3 = \"data/training_glove/cp-0003.ckpt\"\n",
        "checkpoint_dir = os.path.dirname(checkpoint_path_3)\n",
        "model_glove.load_weights(checkpoint_path)\n",
        "predict_val_y = model_glove.predict(val_X, batch_size = 1024, verbose = 1)\n",
        "\n",
        "for thresh in np.arange(0.1, 0.901, 0.01):\n",
        "    thresh = np.round(thresh, 2)\n",
        "    print(\"F1 score at threshold {0} is {1}\".format(thresh, metrics.f1_score(val_y, (predict_val_y>thresh).astype(int))))"
      ],
      "execution_count": 0,
      "outputs": [
        {
          "output_type": "stream",
          "text": [
            "130613/130613 [==============================] - 113s 866us/step\n",
            "F1 score at threshold 0.1 is 0.5754442649434571\n",
            "F1 score at threshold 0.11 is 0.5849739854318419\n",
            "F1 score at threshold 0.12 is 0.5938741509675766\n",
            "F1 score at threshold 0.13 is 0.6017171894165061\n",
            "F1 score at threshold 0.14 is 0.6084892988269007\n",
            "F1 score at threshold 0.15 is 0.6145466196731816\n",
            "F1 score at threshold 0.16 is 0.6190876799401758\n",
            "F1 score at threshold 0.17 is 0.6238435860753456\n",
            "F1 score at threshold 0.18 is 0.6277634711627229\n",
            "F1 score at threshold 0.19 is 0.6305565191535756\n",
            "F1 score at threshold 0.2 is 0.6340258168616377\n",
            "F1 score at threshold 0.21 is 0.6381255127153405\n",
            "F1 score at threshold 0.22 is 0.6408131352619234\n",
            "F1 score at threshold 0.23 is 0.6434239762988044\n",
            "F1 score at threshold 0.24 is 0.644364495516297\n",
            "F1 score at threshold 0.25 is 0.6457981131046518\n",
            "F1 score at threshold 0.26 is 0.6465774632312286\n",
            "F1 score at threshold 0.27 is 0.647975776606482\n",
            "F1 score at threshold 0.28 is 0.6470120427175642\n",
            "F1 score at threshold 0.29 is 0.6463751438434981\n",
            "F1 score at threshold 0.3 is 0.6467296257432669\n",
            "F1 score at threshold 0.31 is 0.6454588457899716\n",
            "F1 score at threshold 0.32 is 0.6424976030680728\n",
            "F1 score at threshold 0.33 is 0.6411407766990291\n",
            "F1 score at threshold 0.34 is 0.6409185803757829\n",
            "F1 score at threshold 0.35 is 0.6373189081638998\n",
            "F1 score at threshold 0.36 is 0.6340910522007429\n",
            "F1 score at threshold 0.37 is 0.629210610418664\n",
            "F1 score at threshold 0.38 is 0.6250323247995863\n",
            "F1 score at threshold 0.39 is 0.6210099424385138\n",
            "F1 score at threshold 0.4 is 0.6163847429519071\n",
            "F1 score at threshold 0.41 is 0.611726778158372\n",
            "F1 score at threshold 0.42 is 0.6069631442948457\n",
            "F1 score at threshold 0.43 is 0.6031658637302134\n",
            "F1 score at threshold 0.44 is 0.597212543554007\n",
            "F1 score at threshold 0.45 is 0.5909668313338038\n",
            "F1 score at threshold 0.46 is 0.586128157556729\n",
            "F1 score at threshold 0.47 is 0.5780697321879736\n",
            "F1 score at threshold 0.48 is 0.5719710801139268\n",
            "F1 score at threshold 0.49 is 0.5641709249796342\n",
            "F1 score at threshold 0.5 is 0.5578710644677661\n",
            "F1 score at threshold 0.51 is 0.5487814137119429\n",
            "F1 score at threshold 0.52 is 0.5402581438229871\n",
            "F1 score at threshold 0.53 is 0.5306693617352095\n",
            "F1 score at threshold 0.54 is 0.5217186024551463\n",
            "F1 score at threshold 0.55 is 0.5121096239643085\n",
            "F1 score at threshold 0.56 is 0.5018551379254719\n",
            "F1 score at threshold 0.57 is 0.4908838198021421\n",
            "F1 score at threshold 0.58 is 0.4786353097052003\n",
            "F1 score at threshold 0.59 is 0.46822069428140195\n",
            "F1 score at threshold 0.6 is 0.4584536958368734\n",
            "F1 score at threshold 0.61 is 0.44547723556244084\n",
            "F1 score at threshold 0.62 is 0.43085524591596047\n",
            "F1 score at threshold 0.63 is 0.4163858840219897\n",
            "F1 score at threshold 0.64 is 0.4035560344827587\n",
            "F1 score at threshold 0.65 is 0.3894353369763206\n",
            "F1 score at threshold 0.66 is 0.3744224727407134\n",
            "F1 score at threshold 0.67 is 0.35820056232427366\n",
            "F1 score at threshold 0.68 is 0.3418154196733764\n",
            "F1 score at threshold 0.69 is 0.32942307692307693\n",
            "F1 score at threshold 0.7 is 0.31334698254850346\n",
            "F1 score at threshold 0.71 is 0.29490988314517724\n",
            "F1 score at threshold 0.72 is 0.2789252055343894\n",
            "F1 score at threshold 0.73 is 0.2590895203177513\n",
            "F1 score at threshold 0.74 is 0.23961991324106588\n",
            "F1 score at threshold 0.75 is 0.22233842292407446\n",
            "F1 score at threshold 0.76 is 0.2015059921518719\n",
            "F1 score at threshold 0.77 is 0.1837895866881374\n",
            "F1 score at threshold 0.78 is 0.16659426585577758\n",
            "F1 score at threshold 0.79 is 0.1500439367311072\n",
            "F1 score at threshold 0.8 is 0.13125695216907673\n",
            "F1 score at threshold 0.81 is 0.11149904268498705\n",
            "F1 score at threshold 0.82 is 0.08882292499143737\n",
            "F1 score at threshold 0.83 is 0.07377521613832853\n",
            "F1 score at threshold 0.84 is 0.05727590221187427\n",
            "F1 score at threshold 0.85 is 0.04252319981205216\n",
            "F1 score at threshold 0.86 is 0.03213610586011342\n",
            "F1 score at threshold 0.87 is 0.022570681872178665\n",
            "F1 score at threshold 0.88 is 0.014560210048931854\n",
            "F1 score at threshold 0.89 is 0.009810959559703278\n",
            "F1 score at threshold 0.9 is 0.006472491909385114\n"
          ],
          "name": "stdout"
        }
      ]
    },
    {
      "cell_type": "code",
      "metadata": {
        "id": "_YHkX5yVi28o",
        "colab_type": "code",
        "outputId": "b3899963-de4c-453d-d4c2-879a918318af",
        "colab": {
          "base_uri": "https://localhost:8080/",
          "height": 1000
        }
      },
      "source": [
        "checkpoint_path_4 = \"data/training_glove/cp-0004.ckpt\"\n",
        "checkpoint_dir = os.path.dirname(checkpoint_path_4)\n",
        "model_glove.load_weights(checkpoint_path)\n",
        "predict_val_y = model_glove.predict(val_X, batch_size = 1024, verbose = 1)\n",
        "\n",
        "for thresh in np.arange(0.1, 0.901, 0.01):\n",
        "    thresh = np.round(thresh, 2)\n",
        "    print(\"F1 score at threshold {0} is {1}\".format(thresh, metrics.f1_score(val_y, (predict_val_y>thresh).astype(int))))"
      ],
      "execution_count": 0,
      "outputs": [
        {
          "output_type": "stream",
          "text": [
            "130613/130613 [==============================] - 113s 869us/step\n",
            "F1 score at threshold 0.1 is 0.5754442649434571\n",
            "F1 score at threshold 0.11 is 0.5849739854318419\n",
            "F1 score at threshold 0.12 is 0.5938741509675766\n",
            "F1 score at threshold 0.13 is 0.6017171894165061\n",
            "F1 score at threshold 0.14 is 0.6084892988269007\n",
            "F1 score at threshold 0.15 is 0.6145466196731816\n",
            "F1 score at threshold 0.16 is 0.6190876799401758\n",
            "F1 score at threshold 0.17 is 0.6238435860753456\n",
            "F1 score at threshold 0.18 is 0.6277634711627229\n",
            "F1 score at threshold 0.19 is 0.6305565191535756\n",
            "F1 score at threshold 0.2 is 0.6340258168616377\n",
            "F1 score at threshold 0.21 is 0.6381255127153405\n",
            "F1 score at threshold 0.22 is 0.6408131352619234\n",
            "F1 score at threshold 0.23 is 0.6434239762988044\n",
            "F1 score at threshold 0.24 is 0.644364495516297\n",
            "F1 score at threshold 0.25 is 0.6457981131046518\n",
            "F1 score at threshold 0.26 is 0.6465774632312286\n",
            "F1 score at threshold 0.27 is 0.647975776606482\n",
            "F1 score at threshold 0.28 is 0.6470120427175642\n",
            "F1 score at threshold 0.29 is 0.6463751438434981\n",
            "F1 score at threshold 0.3 is 0.6467296257432669\n",
            "F1 score at threshold 0.31 is 0.6454588457899716\n",
            "F1 score at threshold 0.32 is 0.6424976030680728\n",
            "F1 score at threshold 0.33 is 0.6411407766990291\n",
            "F1 score at threshold 0.34 is 0.6409185803757829\n",
            "F1 score at threshold 0.35 is 0.6373189081638998\n",
            "F1 score at threshold 0.36 is 0.6340910522007429\n",
            "F1 score at threshold 0.37 is 0.629210610418664\n",
            "F1 score at threshold 0.38 is 0.6250323247995863\n",
            "F1 score at threshold 0.39 is 0.6210099424385138\n",
            "F1 score at threshold 0.4 is 0.6163847429519071\n",
            "F1 score at threshold 0.41 is 0.611726778158372\n",
            "F1 score at threshold 0.42 is 0.6069631442948457\n",
            "F1 score at threshold 0.43 is 0.6031658637302134\n",
            "F1 score at threshold 0.44 is 0.597212543554007\n",
            "F1 score at threshold 0.45 is 0.5909668313338038\n",
            "F1 score at threshold 0.46 is 0.586128157556729\n",
            "F1 score at threshold 0.47 is 0.5780697321879736\n",
            "F1 score at threshold 0.48 is 0.5719710801139268\n",
            "F1 score at threshold 0.49 is 0.5641709249796342\n",
            "F1 score at threshold 0.5 is 0.5578710644677661\n",
            "F1 score at threshold 0.51 is 0.5487814137119429\n",
            "F1 score at threshold 0.52 is 0.5402581438229871\n",
            "F1 score at threshold 0.53 is 0.5306693617352095\n",
            "F1 score at threshold 0.54 is 0.5217186024551463\n",
            "F1 score at threshold 0.55 is 0.5121096239643085\n",
            "F1 score at threshold 0.56 is 0.5018551379254719\n",
            "F1 score at threshold 0.57 is 0.4908838198021421\n",
            "F1 score at threshold 0.58 is 0.4786353097052003\n",
            "F1 score at threshold 0.59 is 0.46822069428140195\n",
            "F1 score at threshold 0.6 is 0.4584536958368734\n",
            "F1 score at threshold 0.61 is 0.44547723556244084\n",
            "F1 score at threshold 0.62 is 0.43085524591596047\n",
            "F1 score at threshold 0.63 is 0.4163858840219897\n",
            "F1 score at threshold 0.64 is 0.4035560344827587\n",
            "F1 score at threshold 0.65 is 0.3894353369763206\n",
            "F1 score at threshold 0.66 is 0.3744224727407134\n",
            "F1 score at threshold 0.67 is 0.35820056232427366\n",
            "F1 score at threshold 0.68 is 0.3418154196733764\n",
            "F1 score at threshold 0.69 is 0.32942307692307693\n",
            "F1 score at threshold 0.7 is 0.31334698254850346\n",
            "F1 score at threshold 0.71 is 0.29490988314517724\n",
            "F1 score at threshold 0.72 is 0.2789252055343894\n",
            "F1 score at threshold 0.73 is 0.2590895203177513\n",
            "F1 score at threshold 0.74 is 0.23961991324106588\n",
            "F1 score at threshold 0.75 is 0.22233842292407446\n",
            "F1 score at threshold 0.76 is 0.2015059921518719\n",
            "F1 score at threshold 0.77 is 0.1837895866881374\n",
            "F1 score at threshold 0.78 is 0.16659426585577758\n",
            "F1 score at threshold 0.79 is 0.1500439367311072\n",
            "F1 score at threshold 0.8 is 0.13125695216907673\n",
            "F1 score at threshold 0.81 is 0.11149904268498705\n",
            "F1 score at threshold 0.82 is 0.08882292499143737\n",
            "F1 score at threshold 0.83 is 0.07377521613832853\n",
            "F1 score at threshold 0.84 is 0.05727590221187427\n",
            "F1 score at threshold 0.85 is 0.04252319981205216\n",
            "F1 score at threshold 0.86 is 0.03213610586011342\n",
            "F1 score at threshold 0.87 is 0.022570681872178665\n",
            "F1 score at threshold 0.88 is 0.014560210048931854\n",
            "F1 score at threshold 0.89 is 0.009810959559703278\n",
            "F1 score at threshold 0.9 is 0.006472491909385114\n"
          ],
          "name": "stdout"
        }
      ]
    },
    {
      "cell_type": "code",
      "metadata": {
        "id": "XOemYy4Ai4EK",
        "colab_type": "code",
        "outputId": "9a87b350-d087-4482-a35d-4fa78595b3ba",
        "colab": {
          "base_uri": "https://localhost:8080/",
          "height": 1000
        }
      },
      "source": [
        "checkpoint_path_5 = \"data/training_glove/cp-0005.ckpt\"\n",
        "checkpoint_dir = os.path.dirname(checkpoint_path_5)\n",
        "model_glove.load_weights(checkpoint_path)\n",
        "predict_val_y = model_glove.predict(val_X, batch_size = 1024, verbose = 1)\n",
        "\n",
        "for thresh in np.arange(0.1, 0.901, 0.01):\n",
        "    thresh = np.round(thresh, 2)\n",
        "    print(\"F1 score at threshold {0} is {1}\".format(thresh, metrics.f1_score(val_y, (predict_val_y>thresh).astype(int))))"
      ],
      "execution_count": 0,
      "outputs": [
        {
          "output_type": "stream",
          "text": [
            "130613/130613 [==============================] - 114s 870us/step\n",
            "F1 score at threshold 0.1 is 0.5754442649434571\n",
            "F1 score at threshold 0.11 is 0.5849739854318419\n",
            "F1 score at threshold 0.12 is 0.5938741509675766\n",
            "F1 score at threshold 0.13 is 0.6017171894165061\n",
            "F1 score at threshold 0.14 is 0.6084892988269007\n",
            "F1 score at threshold 0.15 is 0.6145466196731816\n",
            "F1 score at threshold 0.16 is 0.6190876799401758\n",
            "F1 score at threshold 0.17 is 0.6238435860753456\n",
            "F1 score at threshold 0.18 is 0.6277634711627229\n",
            "F1 score at threshold 0.19 is 0.6305565191535756\n",
            "F1 score at threshold 0.2 is 0.6340258168616377\n",
            "F1 score at threshold 0.21 is 0.6381255127153405\n",
            "F1 score at threshold 0.22 is 0.6408131352619234\n",
            "F1 score at threshold 0.23 is 0.6434239762988044\n",
            "F1 score at threshold 0.24 is 0.644364495516297\n",
            "F1 score at threshold 0.25 is 0.6457981131046518\n",
            "F1 score at threshold 0.26 is 0.6465774632312286\n",
            "F1 score at threshold 0.27 is 0.647975776606482\n",
            "F1 score at threshold 0.28 is 0.6470120427175642\n",
            "F1 score at threshold 0.29 is 0.6463751438434981\n",
            "F1 score at threshold 0.3 is 0.6467296257432669\n",
            "F1 score at threshold 0.31 is 0.6454588457899716\n",
            "F1 score at threshold 0.32 is 0.6424976030680728\n",
            "F1 score at threshold 0.33 is 0.6411407766990291\n",
            "F1 score at threshold 0.34 is 0.6409185803757829\n",
            "F1 score at threshold 0.35 is 0.6373189081638998\n",
            "F1 score at threshold 0.36 is 0.6340910522007429\n",
            "F1 score at threshold 0.37 is 0.629210610418664\n",
            "F1 score at threshold 0.38 is 0.6250323247995863\n",
            "F1 score at threshold 0.39 is 0.6210099424385138\n",
            "F1 score at threshold 0.4 is 0.6163847429519071\n",
            "F1 score at threshold 0.41 is 0.611726778158372\n",
            "F1 score at threshold 0.42 is 0.6069631442948457\n",
            "F1 score at threshold 0.43 is 0.6031658637302134\n",
            "F1 score at threshold 0.44 is 0.597212543554007\n",
            "F1 score at threshold 0.45 is 0.5909668313338038\n",
            "F1 score at threshold 0.46 is 0.586128157556729\n",
            "F1 score at threshold 0.47 is 0.5780697321879736\n",
            "F1 score at threshold 0.48 is 0.5719710801139268\n",
            "F1 score at threshold 0.49 is 0.5641709249796342\n",
            "F1 score at threshold 0.5 is 0.5578710644677661\n",
            "F1 score at threshold 0.51 is 0.5487814137119429\n",
            "F1 score at threshold 0.52 is 0.5402581438229871\n",
            "F1 score at threshold 0.53 is 0.5306693617352095\n",
            "F1 score at threshold 0.54 is 0.5217186024551463\n",
            "F1 score at threshold 0.55 is 0.5121096239643085\n",
            "F1 score at threshold 0.56 is 0.5018551379254719\n",
            "F1 score at threshold 0.57 is 0.4908838198021421\n",
            "F1 score at threshold 0.58 is 0.4786353097052003\n",
            "F1 score at threshold 0.59 is 0.46822069428140195\n",
            "F1 score at threshold 0.6 is 0.4584536958368734\n",
            "F1 score at threshold 0.61 is 0.44547723556244084\n",
            "F1 score at threshold 0.62 is 0.43085524591596047\n",
            "F1 score at threshold 0.63 is 0.4163858840219897\n",
            "F1 score at threshold 0.64 is 0.4035560344827587\n",
            "F1 score at threshold 0.65 is 0.3894353369763206\n",
            "F1 score at threshold 0.66 is 0.3744224727407134\n",
            "F1 score at threshold 0.67 is 0.35820056232427366\n",
            "F1 score at threshold 0.68 is 0.3418154196733764\n",
            "F1 score at threshold 0.69 is 0.32942307692307693\n",
            "F1 score at threshold 0.7 is 0.31334698254850346\n",
            "F1 score at threshold 0.71 is 0.29490988314517724\n",
            "F1 score at threshold 0.72 is 0.2789252055343894\n",
            "F1 score at threshold 0.73 is 0.2590895203177513\n",
            "F1 score at threshold 0.74 is 0.23961991324106588\n",
            "F1 score at threshold 0.75 is 0.22233842292407446\n",
            "F1 score at threshold 0.76 is 0.2015059921518719\n",
            "F1 score at threshold 0.77 is 0.1837895866881374\n",
            "F1 score at threshold 0.78 is 0.16659426585577758\n",
            "F1 score at threshold 0.79 is 0.1500439367311072\n",
            "F1 score at threshold 0.8 is 0.13125695216907673\n",
            "F1 score at threshold 0.81 is 0.11149904268498705\n",
            "F1 score at threshold 0.82 is 0.08882292499143737\n",
            "F1 score at threshold 0.83 is 0.07377521613832853\n",
            "F1 score at threshold 0.84 is 0.05727590221187427\n",
            "F1 score at threshold 0.85 is 0.04252319981205216\n",
            "F1 score at threshold 0.86 is 0.03213610586011342\n",
            "F1 score at threshold 0.87 is 0.022570681872178665\n",
            "F1 score at threshold 0.88 is 0.014560210048931854\n",
            "F1 score at threshold 0.89 is 0.009810959559703278\n",
            "F1 score at threshold 0.9 is 0.006472491909385114\n"
          ],
          "name": "stdout"
        }
      ]
    },
    {
      "cell_type": "code",
      "metadata": {
        "id": "s00q9xQAi5Fj",
        "colab_type": "code",
        "outputId": "78bf3a6f-56f9-48fc-a2b3-94abcfdb99ad",
        "colab": {
          "base_uri": "https://localhost:8080/",
          "height": 1000
        }
      },
      "source": [
        "checkpoint_path_6 = \"data/training_glove/cp-0006.ckpt\"\n",
        "checkpoint_dir = os.path.dirname(checkpoint_path_6)\n",
        "model_glove.load_weights(checkpoint_path)\n",
        "predict_val_y = model_glove.predict(val_X, batch_size = 1024, verbose = 1)\n",
        "\n",
        "for thresh in np.arange(0.1, 0.901, 0.01):\n",
        "    thresh = np.round(thresh, 2)\n",
        "    print(\"F1 score at threshold {0} is {1}\".format(thresh, metrics.f1_score(val_y, (predict_val_y>thresh).astype(int))))"
      ],
      "execution_count": 0,
      "outputs": [
        {
          "output_type": "stream",
          "text": [
            "130613/130613 [==============================] - 114s 873us/step\n",
            "F1 score at threshold 0.1 is 0.5754442649434571\n",
            "F1 score at threshold 0.11 is 0.5849739854318419\n",
            "F1 score at threshold 0.12 is 0.5938741509675766\n",
            "F1 score at threshold 0.13 is 0.6017171894165061\n",
            "F1 score at threshold 0.14 is 0.6084892988269007\n",
            "F1 score at threshold 0.15 is 0.6145466196731816\n",
            "F1 score at threshold 0.16 is 0.6190876799401758\n",
            "F1 score at threshold 0.17 is 0.6238435860753456\n",
            "F1 score at threshold 0.18 is 0.6277634711627229\n",
            "F1 score at threshold 0.19 is 0.6305565191535756\n",
            "F1 score at threshold 0.2 is 0.6340258168616377\n",
            "F1 score at threshold 0.21 is 0.6381255127153405\n",
            "F1 score at threshold 0.22 is 0.6408131352619234\n",
            "F1 score at threshold 0.23 is 0.6434239762988044\n",
            "F1 score at threshold 0.24 is 0.644364495516297\n",
            "F1 score at threshold 0.25 is 0.6457981131046518\n",
            "F1 score at threshold 0.26 is 0.6465774632312286\n",
            "F1 score at threshold 0.27 is 0.647975776606482\n",
            "F1 score at threshold 0.28 is 0.6470120427175642\n",
            "F1 score at threshold 0.29 is 0.6463751438434981\n",
            "F1 score at threshold 0.3 is 0.6467296257432669\n",
            "F1 score at threshold 0.31 is 0.6454588457899716\n",
            "F1 score at threshold 0.32 is 0.6424976030680728\n",
            "F1 score at threshold 0.33 is 0.6411407766990291\n",
            "F1 score at threshold 0.34 is 0.6409185803757829\n",
            "F1 score at threshold 0.35 is 0.6373189081638998\n",
            "F1 score at threshold 0.36 is 0.6340910522007429\n",
            "F1 score at threshold 0.37 is 0.629210610418664\n",
            "F1 score at threshold 0.38 is 0.6250323247995863\n",
            "F1 score at threshold 0.39 is 0.6210099424385138\n",
            "F1 score at threshold 0.4 is 0.6163847429519071\n",
            "F1 score at threshold 0.41 is 0.611726778158372\n",
            "F1 score at threshold 0.42 is 0.6069631442948457\n",
            "F1 score at threshold 0.43 is 0.6031658637302134\n",
            "F1 score at threshold 0.44 is 0.597212543554007\n",
            "F1 score at threshold 0.45 is 0.5909668313338038\n",
            "F1 score at threshold 0.46 is 0.586128157556729\n",
            "F1 score at threshold 0.47 is 0.5780697321879736\n",
            "F1 score at threshold 0.48 is 0.5719710801139268\n",
            "F1 score at threshold 0.49 is 0.5641709249796342\n",
            "F1 score at threshold 0.5 is 0.5578710644677661\n",
            "F1 score at threshold 0.51 is 0.5487814137119429\n",
            "F1 score at threshold 0.52 is 0.5402581438229871\n",
            "F1 score at threshold 0.53 is 0.5306693617352095\n",
            "F1 score at threshold 0.54 is 0.5217186024551463\n",
            "F1 score at threshold 0.55 is 0.5121096239643085\n",
            "F1 score at threshold 0.56 is 0.5018551379254719\n",
            "F1 score at threshold 0.57 is 0.4908838198021421\n",
            "F1 score at threshold 0.58 is 0.4786353097052003\n",
            "F1 score at threshold 0.59 is 0.46822069428140195\n",
            "F1 score at threshold 0.6 is 0.4584536958368734\n",
            "F1 score at threshold 0.61 is 0.44547723556244084\n",
            "F1 score at threshold 0.62 is 0.43085524591596047\n",
            "F1 score at threshold 0.63 is 0.4163858840219897\n",
            "F1 score at threshold 0.64 is 0.4035560344827587\n",
            "F1 score at threshold 0.65 is 0.3894353369763206\n",
            "F1 score at threshold 0.66 is 0.3744224727407134\n",
            "F1 score at threshold 0.67 is 0.35820056232427366\n",
            "F1 score at threshold 0.68 is 0.3418154196733764\n",
            "F1 score at threshold 0.69 is 0.32942307692307693\n",
            "F1 score at threshold 0.7 is 0.31334698254850346\n",
            "F1 score at threshold 0.71 is 0.29490988314517724\n",
            "F1 score at threshold 0.72 is 0.2789252055343894\n",
            "F1 score at threshold 0.73 is 0.2590895203177513\n",
            "F1 score at threshold 0.74 is 0.23961991324106588\n",
            "F1 score at threshold 0.75 is 0.22233842292407446\n",
            "F1 score at threshold 0.76 is 0.2015059921518719\n",
            "F1 score at threshold 0.77 is 0.1837895866881374\n",
            "F1 score at threshold 0.78 is 0.16659426585577758\n",
            "F1 score at threshold 0.79 is 0.1500439367311072\n",
            "F1 score at threshold 0.8 is 0.13125695216907673\n",
            "F1 score at threshold 0.81 is 0.11149904268498705\n",
            "F1 score at threshold 0.82 is 0.08882292499143737\n",
            "F1 score at threshold 0.83 is 0.07377521613832853\n",
            "F1 score at threshold 0.84 is 0.05727590221187427\n",
            "F1 score at threshold 0.85 is 0.04252319981205216\n",
            "F1 score at threshold 0.86 is 0.03213610586011342\n",
            "F1 score at threshold 0.87 is 0.022570681872178665\n",
            "F1 score at threshold 0.88 is 0.014560210048931854\n",
            "F1 score at threshold 0.89 is 0.009810959559703278\n",
            "F1 score at threshold 0.9 is 0.006472491909385114\n"
          ],
          "name": "stdout"
        }
      ]
    },
    {
      "cell_type": "code",
      "metadata": {
        "id": "rFItAHVCi8xD",
        "colab_type": "code",
        "colab": {}
      },
      "source": [
        ""
      ],
      "execution_count": 0,
      "outputs": []
    }
  ]
}