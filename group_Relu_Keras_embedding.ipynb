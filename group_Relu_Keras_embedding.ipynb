{
  "nbformat": 4,
  "nbformat_minor": 0,
  "metadata": {
    "colab": {
      "name": "group_Relu_Keras_embedding.ipynb",
      "version": "0.3.2",
      "provenance": [],
      "include_colab_link": true
    },
    "kernelspec": {
      "name": "python3",
      "display_name": "Python 3"
    },
    "accelerator": "GPU"
  },
  "cells": [
    {
      "cell_type": "markdown",
      "metadata": {
        "id": "view-in-github",
        "colab_type": "text"
      },
      "source": [
        "<a href=\"https://colab.research.google.com/github/hieu1999210/Insincere-question-classification/blob/master/group_Relu_Keras_embedding.ipynb\" target=\"_parent\"><img src=\"https://colab.research.google.com/assets/colab-badge.svg\" alt=\"Open In Colab\"/></a>"
      ]
    },
    {
      "cell_type": "code",
      "metadata": {
        "id": "4JTPm4vwC51Z",
        "colab_type": "code",
        "outputId": "75cb3ff0-582a-4c09-d5b2-f9630a476132",
        "colab": {
          "base_uri": "https://localhost:8080/",
          "height": 34
        }
      },
      "source": [
        "import os\n",
        "import time\n",
        "import numpy as np # linear algebra\n",
        "import pandas as pd # data processing, CSV file I/O (e.g. pd.read_csv)\n",
        "from tqdm import tqdm\n",
        "import math\n",
        "from sklearn.model_selection import train_test_split\n",
        "from sklearn import metrics\n",
        "\n",
        "from keras.preprocessing.text import Tokenizer\n",
        "from keras.preprocessing.sequence import pad_sequences\n",
        "from keras.layers import Dense, Input, LSTM, Embedding, Dropout, Activation, CuDNNGRU, Conv1D\n",
        "from keras.layers import Bidirectional, GlobalMaxPool1D\n",
        "from keras.models import Model\n",
        "from keras import initializers, regularizers, constraints, optimizers, layers"
      ],
      "execution_count": 0,
      "outputs": [
        {
          "output_type": "stream",
          "text": [
            "Using TensorFlow backend.\n"
          ],
          "name": "stderr"
        }
      ]
    },
    {
      "cell_type": "code",
      "metadata": {
        "id": "n1LL_0IADdT9",
        "colab_type": "code",
        "outputId": "0a518c46-70c1-46b0-ce9f-20022a6796b0",
        "colab": {
          "base_uri": "https://localhost:8080/",
          "height": 122
        }
      },
      "source": [
        "from google.colab import drive\n",
        "drive.mount('/content/drive')\n"
      ],
      "execution_count": 0,
      "outputs": [
        {
          "output_type": "stream",
          "text": [
            "Go to this URL in a browser: https://accounts.google.com/o/oauth2/auth?client_id=947318989803-6bn6qk8qdgf4n4g3pfee6491hc0brc4i.apps.googleusercontent.com&redirect_uri=urn%3Aietf%3Awg%3Aoauth%3A2.0%3Aoob&scope=email%20https%3A%2F%2Fwww.googleapis.com%2Fauth%2Fdocs.test%20https%3A%2F%2Fwww.googleapis.com%2Fauth%2Fdrive%20https%3A%2F%2Fwww.googleapis.com%2Fauth%2Fdrive.photos.readonly%20https%3A%2F%2Fwww.googleapis.com%2Fauth%2Fpeopleapi.readonly&response_type=code\n",
            "\n",
            "Enter your authorization code:\n",
            "··········\n",
            "Mounted at /content/drive\n"
          ],
          "name": "stdout"
        }
      ]
    },
    {
      "cell_type": "code",
      "metadata": {
        "id": "kV2ohZaeUCnZ",
        "colab_type": "code",
        "colab": {}
      },
      "source": [
        "!cd /content/drive"
      ],
      "execution_count": 0,
      "outputs": []
    },
    {
      "cell_type": "code",
      "metadata": {
        "id": "yjotvxggDu9L",
        "colab_type": "code",
        "colab": {}
      },
      "source": [
        "path_train = \"drive/My Drive/data/train.csv\"\n",
        "path_test = \"drive/My Drive/data/test.csv\"\n",
        "train = pd.read_csv(path_train)\n",
        "test = pd.read_csv(path_test)\n",
        "# Dataset is now stored in a Pandas Dataframe"
      ],
      "execution_count": 0,
      "outputs": []
    },
    {
      "cell_type": "code",
      "metadata": {
        "id": "rHmExgF5D6XG",
        "colab_type": "code",
        "outputId": "d847ddc6-f7d1-4176-9b36-e22a1c4e6d9e",
        "colab": {
          "base_uri": "https://localhost:8080/",
          "height": 51
        }
      },
      "source": [
        "print(train.shape)\n",
        "print(test.shape)"
      ],
      "execution_count": 0,
      "outputs": [
        {
          "output_type": "stream",
          "text": [
            "(1306122, 3)\n",
            "(375806, 2)\n"
          ],
          "name": "stdout"
        }
      ]
    },
    {
      "cell_type": "code",
      "metadata": {
        "id": "xAjWIUq2D-yN",
        "colab_type": "code",
        "colab": {}
      },
      "source": [
        "train, val = train_test_split(train, test_size = 0.1, random_state = 2019) "
      ],
      "execution_count": 0,
      "outputs": []
    },
    {
      "cell_type": "code",
      "metadata": {
        "id": "4bobPMPzEbrX",
        "colab_type": "code",
        "outputId": "f3e4afe3-5f1f-4afd-d0aa-bbdabec434f9",
        "colab": {
          "base_uri": "https://localhost:8080/",
          "height": 34
        }
      },
      "source": [
        "print(train.shape)"
      ],
      "execution_count": 0,
      "outputs": [
        {
          "output_type": "stream",
          "text": [
            "(1175509, 3)\n"
          ],
          "name": "stdout"
        }
      ]
    },
    {
      "cell_type": "code",
      "metadata": {
        "id": "WWKdXCewEd24",
        "colab_type": "code",
        "colab": {}
      },
      "source": [
        "embed_size = 300\n",
        "max_features = 50000\n",
        "maxlen = 100"
      ],
      "execution_count": 0,
      "outputs": []
    },
    {
      "cell_type": "code",
      "metadata": {
        "id": "jWVHeYaJEoEG",
        "colab_type": "code",
        "colab": {}
      },
      "source": [
        "## fill up the missing values\n",
        "train_X = train[\"question_text\"].fillna(\"_na_\").values\n",
        "val_X = val[\"question_text\"].fillna(\"_na_\").values\n",
        "test_X = test[\"question_text\"].fillna(\"_na_\").values\n",
        "\n",
        "#Tokenize the sentences\n",
        "tokenizer = Tokenizer(num_words = max_features)\n",
        "tokenizer.fit_on_texts(list(train_X))\n",
        "train_X = tokenizer.texts_to_sequences(train_X)\n",
        "val_X = tokenizer.texts_to_sequences(val_X)\n",
        "test_X = tokenizer.texts_to_sequences(test_X)"
      ],
      "execution_count": 0,
      "outputs": []
    },
    {
      "cell_type": "code",
      "metadata": {
        "id": "fvgxW_yoFr7y",
        "colab_type": "code",
        "colab": {}
      },
      "source": [
        "#padding\n",
        "train_X = pad_sequences(train_X, maxlen = maxlen)\n",
        "val_X = pad_sequences(val_X, maxlen = maxlen)\n",
        "test_X = pad_sequences(test_X, maxlen = maxlen)\n"
      ],
      "execution_count": 0,
      "outputs": []
    },
    {
      "cell_type": "code",
      "metadata": {
        "id": "QJx4LVrlRT4D",
        "colab_type": "code",
        "colab": {}
      },
      "source": [
        "train_y = train['target'].values\n",
        "val_y = val['target'].values"
      ],
      "execution_count": 0,
      "outputs": []
    },
    {
      "cell_type": "code",
      "metadata": {
        "id": "_Ee3ESTRSTXg",
        "colab_type": "code",
        "outputId": "659dfdff-3d80-40ee-c32b-5df818d62428",
        "colab": {
          "base_uri": "https://localhost:8080/",
          "height": 51
        }
      },
      "source": [
        "print(train_y.shape)\n",
        "print(val_y.shape)"
      ],
      "execution_count": 0,
      "outputs": [
        {
          "output_type": "stream",
          "text": [
            "(1175509,)\n",
            "(130613,)\n"
          ],
          "name": "stdout"
        }
      ]
    },
    {
      "cell_type": "code",
      "metadata": {
        "id": "pnvV-EhsSXIO",
        "colab_type": "code",
        "outputId": "60fb125c-cbed-4b65-fc86-3e7256e467e5",
        "colab": {
          "base_uri": "https://localhost:8080/",
          "height": 340
        }
      },
      "source": [
        "# inp = Input(shape = (maxlen,))\n",
        "# x = Embedding(max_features, embed_size)(inp)\n",
        "# x = Dropout(0.2)(x)\n",
        "# x = Conv1D(64, 5, activation = 'relu')(x)\n",
        "# x = GlobalMaxPool1D()(x)\n",
        "# x = LSTM(300)(x)\n",
        "# x = Dense(1, activation = 'sigmoid')\n",
        "\n",
        "# model = Model(inputs=inp, outputs = x)\n",
        "# model.compile(loss='binary_crossentropy', optimizer = 'adam', metrics=['accuracy'])\n",
        "# model.summary()\n",
        "\n",
        "\n",
        "# x = Bidirectional(CuDNNGRU(64, return_sequences=True))(x)\n",
        "# x = GlobalMaxPool1D()(x)\n",
        "# x = Dense(16,activation=\"relu\")(x)\n",
        "# x = Dropout(0.1)(x)\n",
        "# x = Dense(1, activation = \"sigmoid\")(x)\n",
        "\n",
        "# model = Model(inputs=inp, outputs = x)\n",
        "# model.compile(loss='binary_crossentropy', optimizer = 'adam', metrics=['accuracy'])\n",
        "\n",
        "# model.summary()\n",
        "\n",
        "from keras.models import Sequential\n",
        "from keras.layers import Dense, Flatten, LSTM, Conv1D, MaxPooling1D, Dropout, Activation\n",
        "from keras.layers.embeddings import Embedding\n",
        "model = Sequential()\n",
        "model.add(Embedding(50000, 300, input_length=100, trainable=True))\n",
        "model.add(Dropout(0.2))\n",
        "model.add(Conv1D(64, 5, activation='relu'))\n",
        "model.add(MaxPooling1D(pool_size=4))\n",
        "model.add(LSTM(300))\n",
        "model.add(Dense(1, activation='sigmoid'))\n",
        "model.compile(loss='binary_crossentropy', optimizer='adam', metrics=['accuracy'])\n",
        "\n",
        "model.summary()\n",
        "\n"
      ],
      "execution_count": 0,
      "outputs": [
        {
          "output_type": "stream",
          "text": [
            "_________________________________________________________________\n",
            "Layer (type)                 Output Shape              Param #   \n",
            "=================================================================\n",
            "embedding_4 (Embedding)      (None, 100, 300)          15000000  \n",
            "_________________________________________________________________\n",
            "dropout_4 (Dropout)          (None, 100, 300)          0         \n",
            "_________________________________________________________________\n",
            "conv1d_4 (Conv1D)            (None, 96, 64)            96064     \n",
            "_________________________________________________________________\n",
            "max_pooling1d_2 (MaxPooling1 (None, 24, 64)            0         \n",
            "_________________________________________________________________\n",
            "lstm_4 (LSTM)                (None, 300)               438000    \n",
            "_________________________________________________________________\n",
            "dense_2 (Dense)              (None, 1)                 301       \n",
            "=================================================================\n",
            "Total params: 15,534,365\n",
            "Trainable params: 15,534,365\n",
            "Non-trainable params: 0\n",
            "_________________________________________________________________\n"
          ],
          "name": "stdout"
        }
      ]
    },
    {
      "cell_type": "code",
      "metadata": {
        "id": "ec4LsjORULoa",
        "colab_type": "code",
        "outputId": "ddb31307-f8e4-4103-9eed-f919b5964bc0",
        "colab": {
          "base_uri": "https://localhost:8080/",
          "height": 221
        }
      },
      "source": [
        "model.fit(train_X, train_y, batch_size = 512, epochs=5, validation_data=(val_X, val_y))"
      ],
      "execution_count": 0,
      "outputs": [
        {
          "output_type": "stream",
          "text": [
            "Train on 1175509 samples, validate on 130613 samples\n",
            "Epoch 1/5\n",
            "1175509/1175509 [==============================] - 328s 279us/step - loss: 0.1126 - acc: 0.9553 - val_loss: 0.1114 - val_acc: 0.9556\n",
            "Epoch 2/5\n",
            "1175509/1175509 [==============================] - 328s 279us/step - loss: 0.0946 - acc: 0.9615 - val_loss: 0.1139 - val_acc: 0.9559\n",
            "Epoch 3/5\n",
            "1175509/1175509 [==============================] - 328s 279us/step - loss: 0.0747 - acc: 0.9701 - val_loss: 0.1288 - val_acc: 0.9526\n",
            "Epoch 4/5\n",
            "1175509/1175509 [==============================] - 328s 279us/step - loss: 0.0542 - acc: 0.9787 - val_loss: 0.1468 - val_acc: 0.9509\n",
            "Epoch 5/5\n",
            "1175509/1175509 [==============================] - 329s 280us/step - loss: 0.0401 - acc: 0.9845 - val_loss: 0.1762 - val_acc: 0.9505\n"
          ],
          "name": "stdout"
        },
        {
          "output_type": "execute_result",
          "data": {
            "text/plain": [
              "<keras.callbacks.History at 0x7f2b8cd4e2b0>"
            ]
          },
          "metadata": {
            "tags": []
          },
          "execution_count": 15
        }
      ]
    },
    {
      "cell_type": "code",
      "metadata": {
        "id": "-OYlDYQiUwYY",
        "colab_type": "code",
        "outputId": "61be9ccd-1e4e-4e3f-e860-473214e6de89",
        "colab": {
          "base_uri": "https://localhost:8080/",
          "height": 34
        }
      },
      "source": [
        "predict_val_y = model.predict([val_X], batch_size = 1024, verbose = 1)\n",
        "model.save_weights(\"Naive_weights.h5\")"
      ],
      "execution_count": 0,
      "outputs": [
        {
          "output_type": "stream",
          "text": [
            "130613/130613 [==============================] - 8s 58us/step\n"
          ],
          "name": "stdout"
        }
      ]
    },
    {
      "cell_type": "code",
      "metadata": {
        "id": "Bcq4m4frZOHt",
        "colab_type": "code",
        "outputId": "563ac87a-92ae-4a87-ed9a-e2c70edad64a",
        "colab": {
          "base_uri": "https://localhost:8080/",
          "height": 1000
        }
      },
      "source": [
        "for thresh in np.arange(0.1, 0.901, 0.01):\n",
        "    thresh = np.round(thresh, 2)\n",
        "    print(\"F1 score at threshold {0} is {1}\".format(thresh, metrics.f1_score(val_y, (predict_val_y>thresh).astype(int))))"
      ],
      "execution_count": 0,
      "outputs": [
        {
          "output_type": "stream",
          "text": [
            "F1 score at threshold 0.1 is 0.6011468461730242\n",
            "F1 score at threshold 0.11 is 0.6025155326564631\n",
            "F1 score at threshold 0.12 is 0.6027984884077213\n",
            "F1 score at threshold 0.13 is 0.6035203633923502\n",
            "F1 score at threshold 0.14 is 0.6034311936173541\n",
            "F1 score at threshold 0.15 is 0.6046903820816865\n",
            "F1 score at threshold 0.16 is 0.6055387232233029\n",
            "F1 score at threshold 0.17 is 0.6066645237329905\n",
            "F1 score at threshold 0.18 is 0.6080380293863439\n",
            "F1 score at threshold 0.19 is 0.6084399673291588\n",
            "F1 score at threshold 0.2 is 0.6085001370989854\n",
            "F1 score at threshold 0.21 is 0.6081431965084803\n",
            "F1 score at threshold 0.22 is 0.6078300522744968\n",
            "F1 score at threshold 0.23 is 0.6080188150968753\n",
            "F1 score at threshold 0.24 is 0.6077834179357022\n",
            "F1 score at threshold 0.25 is 0.60657319634444\n",
            "F1 score at threshold 0.26 is 0.6056973226009019\n",
            "F1 score at threshold 0.27 is 0.6063078072039984\n",
            "F1 score at threshold 0.28 is 0.6060676105171916\n",
            "F1 score at threshold 0.29 is 0.6054267619545639\n",
            "F1 score at threshold 0.3 is 0.6037537274162428\n",
            "F1 score at threshold 0.31 is 0.6035739478015518\n",
            "F1 score at threshold 0.32 is 0.6025792711784194\n",
            "F1 score at threshold 0.33 is 0.6012488849241748\n",
            "F1 score at threshold 0.34 is 0.6006569125111973\n",
            "F1 score at threshold 0.35 is 0.600011995441732\n",
            "F1 score at threshold 0.36 is 0.5984917043740573\n",
            "F1 score at threshold 0.37 is 0.5978531141973438\n",
            "F1 score at threshold 0.38 is 0.5969512195121952\n",
            "F1 score at threshold 0.39 is 0.5962139312626354\n",
            "F1 score at threshold 0.4 is 0.5953831948291781\n",
            "F1 score at threshold 0.41 is 0.5934989494500063\n",
            "F1 score at threshold 0.42 is 0.5930203676105316\n",
            "F1 score at threshold 0.43 is 0.5918443696221475\n",
            "F1 score at threshold 0.44 is 0.5901495713123474\n",
            "F1 score at threshold 0.45 is 0.589516078283305\n",
            "F1 score at threshold 0.46 is 0.5886296085499273\n",
            "F1 score at threshold 0.47 is 0.5866785418919779\n",
            "F1 score at threshold 0.48 is 0.585128828080046\n",
            "F1 score at threshold 0.49 is 0.5837240670563298\n",
            "F1 score at threshold 0.5 is 0.5822735782067007\n",
            "F1 score at threshold 0.51 is 0.5794938351719663\n",
            "F1 score at threshold 0.52 is 0.5764813364656746\n",
            "F1 score at threshold 0.53 is 0.5729672927886509\n",
            "F1 score at threshold 0.54 is 0.5705987193874182\n",
            "F1 score at threshold 0.55 is 0.5687756996949198\n",
            "F1 score at threshold 0.56 is 0.5667466027178257\n",
            "F1 score at threshold 0.57 is 0.5645561139028475\n",
            "F1 score at threshold 0.58 is 0.5626977182472909\n",
            "F1 score at threshold 0.59 is 0.5610284167794317\n",
            "F1 score at threshold 0.6 is 0.5592275261797905\n",
            "F1 score at threshold 0.61 is 0.5555935682517961\n",
            "F1 score at threshold 0.62 is 0.5535222894881673\n",
            "F1 score at threshold 0.63 is 0.5510373443983403\n",
            "F1 score at threshold 0.64 is 0.5494093120222378\n",
            "F1 score at threshold 0.65 is 0.5470933482392398\n",
            "F1 score at threshold 0.66 is 0.5438300267342057\n",
            "F1 score at threshold 0.67 is 0.5394913933555288\n",
            "F1 score at threshold 0.68 is 0.536164754507233\n",
            "F1 score at threshold 0.69 is 0.5332187857961054\n",
            "F1 score at threshold 0.7 is 0.5305563562986451\n",
            "F1 score at threshold 0.71 is 0.526949582879942\n",
            "F1 score at threshold 0.72 is 0.5229578801372363\n",
            "F1 score at threshold 0.73 is 0.5185511718463007\n",
            "F1 score at threshold 0.74 is 0.5161290322580645\n",
            "F1 score at threshold 0.75 is 0.5125148986889153\n",
            "F1 score at threshold 0.76 is 0.5083652186960762\n",
            "F1 score at threshold 0.77 is 0.5052456789191637\n",
            "F1 score at threshold 0.78 is 0.5012550391724349\n",
            "F1 score at threshold 0.79 is 0.495549416820135\n",
            "F1 score at threshold 0.8 is 0.48928764792327323\n",
            "F1 score at threshold 0.81 is 0.4842252862818415\n",
            "F1 score at threshold 0.82 is 0.47790533102689103\n",
            "F1 score at threshold 0.83 is 0.47197780420134766\n",
            "F1 score at threshold 0.84 is 0.4634849455477258\n",
            "F1 score at threshold 0.85 is 0.45561843168957156\n",
            "F1 score at threshold 0.86 is 0.44872317859182503\n",
            "F1 score at threshold 0.87 is 0.44023083264633134\n",
            "F1 score at threshold 0.88 is 0.42925118958176806\n",
            "F1 score at threshold 0.89 is 0.41705439472125877\n",
            "F1 score at threshold 0.9 is 0.404555964716965\n"
          ],
          "name": "stdout"
        }
      ]
    },
    {
      "cell_type": "code",
      "metadata": {
        "id": "8DuURVsHaWhu",
        "colab_type": "code",
        "colab": {}
      },
      "source": [
        ""
      ],
      "execution_count": 0,
      "outputs": []
    }
  ]
}